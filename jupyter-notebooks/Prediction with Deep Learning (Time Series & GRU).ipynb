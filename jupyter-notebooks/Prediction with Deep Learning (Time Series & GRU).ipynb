{
 "cells": [
  {
   "cell_type": "markdown",
   "id": "d0c5a292",
   "metadata": {},
   "source": [
    "In this notebook i will follow the instructions in this video and adapt based on or proect and preferences : https://www.youtube.com/watch?v=p_6kULimQvI"
   ]
  },
  {
   "cell_type": "code",
   "execution_count": 5,
   "id": "645ace51",
   "metadata": {},
   "outputs": [
    {
     "name": "stdout",
     "output_type": "stream",
     "text": [
      "Collecting matplotlib\n",
      "  Using cached matplotlib-3.7.2-cp310-cp310-win_amd64.whl (7.5 MB)\n",
      "Requirement already satisfied: packaging>=20.0 in c:\\users\\matheus.fidelis\\appdata\\local\\anaconda3\\lib\\site-packages (from matplotlib) (22.0)\n",
      "Requirement already satisfied: kiwisolver>=1.0.1 in c:\\users\\matheus.fidelis\\appdata\\local\\anaconda3\\lib\\site-packages (from matplotlib) (1.4.4)\n",
      "Requirement already satisfied: cycler>=0.10 in c:\\users\\matheus.fidelis\\appdata\\local\\anaconda3\\lib\\site-packages (from matplotlib) (0.11.0)\n",
      "Requirement already satisfied: numpy>=1.20 in c:\\users\\matheus.fidelis\\appdata\\local\\anaconda3\\lib\\site-packages (from matplotlib) (1.23.5)\n",
      "Requirement already satisfied: pyparsing<3.1,>=2.3.1 in c:\\users\\matheus.fidelis\\appdata\\local\\anaconda3\\lib\\site-packages (from matplotlib) (3.0.9)\n",
      "Requirement already satisfied: python-dateutil>=2.7 in c:\\users\\matheus.fidelis\\appdata\\local\\anaconda3\\lib\\site-packages (from matplotlib) (2.8.2)\n",
      "Requirement already satisfied: contourpy>=1.0.1 in c:\\users\\matheus.fidelis\\appdata\\local\\anaconda3\\lib\\site-packages (from matplotlib) (1.0.5)\n",
      "Requirement already satisfied: pillow>=6.2.0 in c:\\users\\matheus.fidelis\\appdata\\local\\anaconda3\\lib\\site-packages (from matplotlib) (9.4.0)\n",
      "Requirement already satisfied: fonttools>=4.22.0 in c:\\users\\matheus.fidelis\\appdata\\local\\anaconda3\\lib\\site-packages (from matplotlib) (4.25.0)\n",
      "Requirement already satisfied: six>=1.5 in c:\\users\\matheus.fidelis\\appdata\\local\\anaconda3\\lib\\site-packages (from python-dateutil>=2.7->matplotlib) (1.16.0)\n",
      "Installing collected packages: matplotlib\n",
      "Note: you may need to restart the kernel to use updated packages.\n"
     ]
    },
    {
     "name": "stderr",
     "output_type": "stream",
     "text": [
      "WARNING: Ignoring invalid distribution -atplotlib (c:\\users\\matheus.fidelis\\appdata\\local\\anaconda3\\lib\\site-packages)\n",
      "WARNING: Ignoring invalid distribution -atplotlib (c:\\users\\matheus.fidelis\\appdata\\local\\anaconda3\\lib\\site-packages)\n",
      "WARNING: Ignoring invalid distribution -atplotlib (c:\\users\\matheus.fidelis\\appdata\\local\\anaconda3\\lib\\site-packages)\n",
      "ERROR: Could not install packages due to an OSError: [WinError 5] Acesso negado: 'C:\\\\Users\\\\matheus.fidelis\\\\AppData\\\\Local\\\\anaconda3\\\\Lib\\\\site-packages\\\\matplotlib\\\\_c_internal_utils.cp310-win_amd64.pyd'\n",
      "Consider using the `--user` option or check the permissions.\n",
      "\n",
      "WARNING: Ignoring invalid distribution -atplotlib (c:\\users\\matheus.fidelis\\appdata\\local\\anaconda3\\lib\\site-packages)\n",
      "WARNING: Ignoring invalid distribution -atplotlib (c:\\users\\matheus.fidelis\\appdata\\local\\anaconda3\\lib\\site-packages)\n",
      "WARNING: Ignoring invalid distribution -atplotlib (c:\\users\\matheus.fidelis\\appdata\\local\\anaconda3\\lib\\site-packages)\n"
     ]
    }
   ],
   "source": [
    "pip install --upgrade matplotlib"
   ]
  },
  {
   "cell_type": "code",
   "execution_count": 6,
   "id": "4d909599",
   "metadata": {},
   "outputs": [
    {
     "name": "stdout",
     "output_type": "stream",
     "text": [
      "Requirement already satisfied: numpy in c:\\users\\matheus.fidelis\\appdata\\local\\anaconda3\\lib\\site-packages (1.23.5)\n",
      "Requirement already satisfied: scipy in c:\\users\\matheus.fidelis\\appdata\\local\\anaconda3\\lib\\site-packages (1.10.0)\n",
      "Note: you may need to restart the kernel to use updated packages.\n"
     ]
    },
    {
     "name": "stderr",
     "output_type": "stream",
     "text": [
      "WARNING: Ignoring invalid distribution -atplotlib (c:\\users\\matheus.fidelis\\appdata\\local\\anaconda3\\lib\\site-packages)\n",
      "WARNING: Ignoring invalid distribution -atplotlib (c:\\users\\matheus.fidelis\\appdata\\local\\anaconda3\\lib\\site-packages)\n",
      "WARNING: Ignoring invalid distribution -atplotlib (c:\\users\\matheus.fidelis\\appdata\\local\\anaconda3\\lib\\site-packages)\n",
      "WARNING: Ignoring invalid distribution -atplotlib (c:\\users\\matheus.fidelis\\appdata\\local\\anaconda3\\lib\\site-packages)\n",
      "WARNING: Ignoring invalid distribution -atplotlib (c:\\users\\matheus.fidelis\\appdata\\local\\anaconda3\\lib\\site-packages)\n",
      "WARNING: Ignoring invalid distribution -atplotlib (c:\\users\\matheus.fidelis\\appdata\\local\\anaconda3\\lib\\site-packages)\n"
     ]
    }
   ],
   "source": [
    "pip install numpy scipy"
   ]
  },
  {
   "cell_type": "code",
   "execution_count": 7,
   "id": "2be98885",
   "metadata": {},
   "outputs": [
    {
     "ename": "ImportError",
     "evalue": "DLL load failed while importing _path: Não foi possível encontrar o módulo especificado.",
     "output_type": "error",
     "traceback": [
      "\u001b[1;31m---------------------------------------------------------------------------\u001b[0m",
      "\u001b[1;31mImportError\u001b[0m                               Traceback (most recent call last)",
      "Cell \u001b[1;32mIn[7], line 20\u001b[0m\n\u001b[0;32m     17\u001b[0m \u001b[38;5;28;01mfrom\u001b[39;00m \u001b[38;5;21;01mtensorflow\u001b[39;00m\u001b[38;5;21;01m.\u001b[39;00m\u001b[38;5;21;01mkeras\u001b[39;00m\u001b[38;5;21;01m.\u001b[39;00m\u001b[38;5;21;01mlayers\u001b[39;00m \u001b[38;5;28;01mimport\u001b[39;00m Dense, Dropout\n\u001b[0;32m     18\u001b[0m \u001b[38;5;28;01mfrom\u001b[39;00m \u001b[38;5;21;01mtensorflow\u001b[39;00m\u001b[38;5;21;01m.\u001b[39;00m\u001b[38;5;21;01mkeras\u001b[39;00m\u001b[38;5;21;01m.\u001b[39;00m\u001b[38;5;21;01mlayers\u001b[39;00m \u001b[38;5;28;01mimport\u001b[39;00m LSTM, GRU\n\u001b[1;32m---> 20\u001b[0m \u001b[38;5;28;01mimport\u001b[39;00m \u001b[38;5;21;01mmatplotlib\u001b[39;00m\u001b[38;5;21;01m.\u001b[39;00m\u001b[38;5;21;01mpyplot\u001b[39;00m \u001b[38;5;28;01mas\u001b[39;00m \u001b[38;5;21;01mplt\u001b[39;00m\n\u001b[0;32m     22\u001b[0m \u001b[38;5;28;01mfrom\u001b[39;00m \u001b[38;5;21;01msklearn\u001b[39;00m\u001b[38;5;21;01m.\u001b[39;00m\u001b[38;5;21;01mmetrics\u001b[39;00m \u001b[38;5;28;01mimport\u001b[39;00m mean_absolute_error, mean_squared_error\n\u001b[0;32m     25\u001b[0m \u001b[38;5;28;01mfrom\u001b[39;00m \u001b[38;5;21;01mitertools\u001b[39;00m \u001b[38;5;28;01mimport\u001b[39;00m cycle\n",
      "File \u001b[1;32m~\\AppData\\Local\\anaconda3\\lib\\site-packages\\matplotlib\\__init__.py:144\u001b[0m\n\u001b[0;32m    140\u001b[0m \u001b[38;5;28;01mfrom\u001b[39;00m \u001b[38;5;21;01mpackaging\u001b[39;00m\u001b[38;5;21;01m.\u001b[39;00m\u001b[38;5;21;01mversion\u001b[39;00m \u001b[38;5;28;01mimport\u001b[39;00m parse \u001b[38;5;28;01mas\u001b[39;00m parse_version\n\u001b[0;32m    142\u001b[0m \u001b[38;5;66;03m# cbook must import matplotlib only within function\u001b[39;00m\n\u001b[0;32m    143\u001b[0m \u001b[38;5;66;03m# definitions, so it is safe to import from it here.\u001b[39;00m\n\u001b[1;32m--> 144\u001b[0m \u001b[38;5;28;01mfrom\u001b[39;00m \u001b[38;5;21;01m.\u001b[39;00m \u001b[38;5;28;01mimport\u001b[39;00m _api, _version, cbook, _docstring, rcsetup\n\u001b[0;32m    145\u001b[0m \u001b[38;5;28;01mfrom\u001b[39;00m \u001b[38;5;21;01mmatplotlib\u001b[39;00m\u001b[38;5;21;01m.\u001b[39;00m\u001b[38;5;21;01mcbook\u001b[39;00m \u001b[38;5;28;01mimport\u001b[39;00m sanitize_sequence\n\u001b[0;32m    146\u001b[0m \u001b[38;5;28;01mfrom\u001b[39;00m \u001b[38;5;21;01mmatplotlib\u001b[39;00m\u001b[38;5;21;01m.\u001b[39;00m\u001b[38;5;21;01m_api\u001b[39;00m \u001b[38;5;28;01mimport\u001b[39;00m MatplotlibDeprecationWarning\n",
      "File \u001b[1;32m~\\AppData\\Local\\anaconda3\\lib\\site-packages\\matplotlib\\rcsetup.py:27\u001b[0m\n\u001b[0;32m     25\u001b[0m \u001b[38;5;28;01mfrom\u001b[39;00m \u001b[38;5;21;01mmatplotlib\u001b[39;00m \u001b[38;5;28;01mimport\u001b[39;00m _api, cbook\n\u001b[0;32m     26\u001b[0m \u001b[38;5;28;01mfrom\u001b[39;00m \u001b[38;5;21;01mmatplotlib\u001b[39;00m\u001b[38;5;21;01m.\u001b[39;00m\u001b[38;5;21;01mcbook\u001b[39;00m \u001b[38;5;28;01mimport\u001b[39;00m ls_mapper\n\u001b[1;32m---> 27\u001b[0m \u001b[38;5;28;01mfrom\u001b[39;00m \u001b[38;5;21;01mmatplotlib\u001b[39;00m\u001b[38;5;21;01m.\u001b[39;00m\u001b[38;5;21;01mcolors\u001b[39;00m \u001b[38;5;28;01mimport\u001b[39;00m Colormap, is_color_like\n\u001b[0;32m     28\u001b[0m \u001b[38;5;28;01mfrom\u001b[39;00m \u001b[38;5;21;01mmatplotlib\u001b[39;00m\u001b[38;5;21;01m.\u001b[39;00m\u001b[38;5;21;01m_fontconfig_pattern\u001b[39;00m \u001b[38;5;28;01mimport\u001b[39;00m parse_fontconfig_pattern\n\u001b[0;32m     29\u001b[0m \u001b[38;5;28;01mfrom\u001b[39;00m \u001b[38;5;21;01mmatplotlib\u001b[39;00m\u001b[38;5;21;01m.\u001b[39;00m\u001b[38;5;21;01m_enums\u001b[39;00m \u001b[38;5;28;01mimport\u001b[39;00m JoinStyle, CapStyle\n",
      "File \u001b[1;32m~\\AppData\\Local\\anaconda3\\lib\\site-packages\\matplotlib\\colors.py:56\u001b[0m\n\u001b[0;32m     54\u001b[0m \u001b[38;5;28;01mimport\u001b[39;00m \u001b[38;5;21;01mmatplotlib\u001b[39;00m \u001b[38;5;28;01mas\u001b[39;00m \u001b[38;5;21;01mmpl\u001b[39;00m\n\u001b[0;32m     55\u001b[0m \u001b[38;5;28;01mimport\u001b[39;00m \u001b[38;5;21;01mnumpy\u001b[39;00m \u001b[38;5;28;01mas\u001b[39;00m \u001b[38;5;21;01mnp\u001b[39;00m\n\u001b[1;32m---> 56\u001b[0m \u001b[38;5;28;01mfrom\u001b[39;00m \u001b[38;5;21;01mmatplotlib\u001b[39;00m \u001b[38;5;28;01mimport\u001b[39;00m _api, _cm, cbook, scale\n\u001b[0;32m     57\u001b[0m \u001b[38;5;28;01mfrom\u001b[39;00m \u001b[38;5;21;01m.\u001b[39;00m\u001b[38;5;21;01m_color_data\u001b[39;00m \u001b[38;5;28;01mimport\u001b[39;00m BASE_COLORS, TABLEAU_COLORS, CSS4_COLORS, XKCD_COLORS\n\u001b[0;32m     60\u001b[0m \u001b[38;5;28;01mclass\u001b[39;00m \u001b[38;5;21;01m_ColorMapping\u001b[39;00m(\u001b[38;5;28mdict\u001b[39m):\n",
      "File \u001b[1;32m~\\AppData\\Local\\anaconda3\\lib\\site-packages\\matplotlib\\scale.py:22\u001b[0m\n\u001b[0;32m     20\u001b[0m \u001b[38;5;28;01mimport\u001b[39;00m \u001b[38;5;21;01mmatplotlib\u001b[39;00m \u001b[38;5;28;01mas\u001b[39;00m \u001b[38;5;21;01mmpl\u001b[39;00m\n\u001b[0;32m     21\u001b[0m \u001b[38;5;28;01mfrom\u001b[39;00m \u001b[38;5;21;01mmatplotlib\u001b[39;00m \u001b[38;5;28;01mimport\u001b[39;00m _api, _docstring\n\u001b[1;32m---> 22\u001b[0m \u001b[38;5;28;01mfrom\u001b[39;00m \u001b[38;5;21;01mmatplotlib\u001b[39;00m\u001b[38;5;21;01m.\u001b[39;00m\u001b[38;5;21;01mticker\u001b[39;00m \u001b[38;5;28;01mimport\u001b[39;00m (\n\u001b[0;32m     23\u001b[0m     NullFormatter, ScalarFormatter, LogFormatterSciNotation, LogitFormatter,\n\u001b[0;32m     24\u001b[0m     NullLocator, LogLocator, AutoLocator, AutoMinorLocator,\n\u001b[0;32m     25\u001b[0m     SymmetricalLogLocator, AsinhLocator, LogitLocator)\n\u001b[0;32m     26\u001b[0m \u001b[38;5;28;01mfrom\u001b[39;00m \u001b[38;5;21;01mmatplotlib\u001b[39;00m\u001b[38;5;21;01m.\u001b[39;00m\u001b[38;5;21;01mtransforms\u001b[39;00m \u001b[38;5;28;01mimport\u001b[39;00m Transform, IdentityTransform\n\u001b[0;32m     29\u001b[0m \u001b[38;5;28;01mclass\u001b[39;00m \u001b[38;5;21;01mScaleBase\u001b[39;00m:\n",
      "File \u001b[1;32m~\\AppData\\Local\\anaconda3\\lib\\site-packages\\matplotlib\\ticker.py:138\u001b[0m\n\u001b[0;32m    136\u001b[0m \u001b[38;5;28;01mimport\u001b[39;00m \u001b[38;5;21;01mmatplotlib\u001b[39;00m \u001b[38;5;28;01mas\u001b[39;00m \u001b[38;5;21;01mmpl\u001b[39;00m\n\u001b[0;32m    137\u001b[0m \u001b[38;5;28;01mfrom\u001b[39;00m \u001b[38;5;21;01mmatplotlib\u001b[39;00m \u001b[38;5;28;01mimport\u001b[39;00m _api, cbook\n\u001b[1;32m--> 138\u001b[0m \u001b[38;5;28;01mfrom\u001b[39;00m \u001b[38;5;21;01mmatplotlib\u001b[39;00m \u001b[38;5;28;01mimport\u001b[39;00m transforms \u001b[38;5;28;01mas\u001b[39;00m mtransforms\n\u001b[0;32m    140\u001b[0m _log \u001b[38;5;241m=\u001b[39m logging\u001b[38;5;241m.\u001b[39mgetLogger(\u001b[38;5;18m__name__\u001b[39m)\n\u001b[0;32m    142\u001b[0m __all__ \u001b[38;5;241m=\u001b[39m (\u001b[38;5;124m'\u001b[39m\u001b[38;5;124mTickHelper\u001b[39m\u001b[38;5;124m'\u001b[39m, \u001b[38;5;124m'\u001b[39m\u001b[38;5;124mFormatter\u001b[39m\u001b[38;5;124m'\u001b[39m, \u001b[38;5;124m'\u001b[39m\u001b[38;5;124mFixedFormatter\u001b[39m\u001b[38;5;124m'\u001b[39m,\n\u001b[0;32m    143\u001b[0m            \u001b[38;5;124m'\u001b[39m\u001b[38;5;124mNullFormatter\u001b[39m\u001b[38;5;124m'\u001b[39m, \u001b[38;5;124m'\u001b[39m\u001b[38;5;124mFuncFormatter\u001b[39m\u001b[38;5;124m'\u001b[39m, \u001b[38;5;124m'\u001b[39m\u001b[38;5;124mFormatStrFormatter\u001b[39m\u001b[38;5;124m'\u001b[39m,\n\u001b[0;32m    144\u001b[0m            \u001b[38;5;124m'\u001b[39m\u001b[38;5;124mStrMethodFormatter\u001b[39m\u001b[38;5;124m'\u001b[39m, \u001b[38;5;124m'\u001b[39m\u001b[38;5;124mScalarFormatter\u001b[39m\u001b[38;5;124m'\u001b[39m, \u001b[38;5;124m'\u001b[39m\u001b[38;5;124mLogFormatter\u001b[39m\u001b[38;5;124m'\u001b[39m,\n\u001b[1;32m   (...)\u001b[0m\n\u001b[0;32m    150\u001b[0m            \u001b[38;5;124m'\u001b[39m\u001b[38;5;124mMultipleLocator\u001b[39m\u001b[38;5;124m'\u001b[39m, \u001b[38;5;124m'\u001b[39m\u001b[38;5;124mMaxNLocator\u001b[39m\u001b[38;5;124m'\u001b[39m, \u001b[38;5;124m'\u001b[39m\u001b[38;5;124mAutoMinorLocator\u001b[39m\u001b[38;5;124m'\u001b[39m,\n\u001b[0;32m    151\u001b[0m            \u001b[38;5;124m'\u001b[39m\u001b[38;5;124mSymmetricalLogLocator\u001b[39m\u001b[38;5;124m'\u001b[39m, \u001b[38;5;124m'\u001b[39m\u001b[38;5;124mAsinhLocator\u001b[39m\u001b[38;5;124m'\u001b[39m, \u001b[38;5;124m'\u001b[39m\u001b[38;5;124mLogitLocator\u001b[39m\u001b[38;5;124m'\u001b[39m)\n",
      "File \u001b[1;32m~\\AppData\\Local\\anaconda3\\lib\\site-packages\\matplotlib\\transforms.py:49\u001b[0m\n\u001b[0;32m     46\u001b[0m \u001b[38;5;28;01mfrom\u001b[39;00m \u001b[38;5;21;01mnumpy\u001b[39;00m\u001b[38;5;21;01m.\u001b[39;00m\u001b[38;5;21;01mlinalg\u001b[39;00m \u001b[38;5;28;01mimport\u001b[39;00m inv\n\u001b[0;32m     48\u001b[0m \u001b[38;5;28;01mfrom\u001b[39;00m \u001b[38;5;21;01mmatplotlib\u001b[39;00m \u001b[38;5;28;01mimport\u001b[39;00m _api\n\u001b[1;32m---> 49\u001b[0m \u001b[38;5;28;01mfrom\u001b[39;00m \u001b[38;5;21;01mmatplotlib\u001b[39;00m\u001b[38;5;21;01m.\u001b[39;00m\u001b[38;5;21;01m_path\u001b[39;00m \u001b[38;5;28;01mimport\u001b[39;00m (\n\u001b[0;32m     50\u001b[0m     affine_transform, count_bboxes_overlapping_bbox, update_path_extents)\n\u001b[0;32m     51\u001b[0m \u001b[38;5;28;01mfrom\u001b[39;00m \u001b[38;5;21;01m.\u001b[39;00m\u001b[38;5;21;01mpath\u001b[39;00m \u001b[38;5;28;01mimport\u001b[39;00m Path\n\u001b[0;32m     53\u001b[0m DEBUG \u001b[38;5;241m=\u001b[39m \u001b[38;5;28;01mFalse\u001b[39;00m\n",
      "\u001b[1;31mImportError\u001b[0m: DLL load failed while importing _path: Não foi possível encontrar o módulo especificado."
     ]
    }
   ],
   "source": [
    "# Importing the libraries\n",
    "import os\n",
    "import pandas as pd\n",
    "import numpy as np\n",
    "import math\n",
    "import datetime as dt\n",
    "\n",
    "from sklearn.metrics import mean_squared_error, mean_absolute_error, explained_variance_score, r2_score \n",
    "from sklearn.metrics import mean_poisson_deviance, mean_gamma_deviance, accuracy_score\n",
    "from sklearn.preprocessing import MinMaxScaler\n",
    "\n",
    "from keras.models import Sequential\n",
    "from keras.layers import GRU, Dense\n",
    "\n",
    "import tensorflow as tf\n",
    "from tensorflow.keras.models import Sequential\n",
    "from tensorflow.keras.layers import Dense, Dropout\n",
    "from tensorflow.keras.layers import LSTM, GRU\n",
    "\n",
    "import matplotlib.pyplot as plt\n",
    "\n",
    "from sklearn.metrics import mean_absolute_error, mean_squared_error\n",
    "\n",
    "\n",
    "from itertools import cycle\n",
    "import plotly.graph_objects as go\n",
    "import plotly.express as px\n",
    "from plotly.subplots import make_subplots\n",
    "\n",
    "import matplotlib.pyplot as plt\n"
   ]
  },
  {
   "cell_type": "code",
   "execution_count": null,
   "id": "63ddc6ef",
   "metadata": {},
   "outputs": [],
   "source": [
    "# root_path = '../input/cs.csv' # local file\n",
    "root_path = '..\\cleaned-data\\ethereum-pools-volume-cleaned.csv'"
   ]
  },
  {
   "cell_type": "code",
   "execution_count": null,
   "id": "3dc07391",
   "metadata": {},
   "outputs": [],
   "source": [
    "stock_df = pd.read_csv(root_path)\n",
    "stock_df.head()"
   ]
  },
  {
   "cell_type": "code",
   "execution_count": null,
   "id": "51cb41b7",
   "metadata": {
    "scrolled": true
   },
   "outputs": [],
   "source": [
    "stock_df = stock_df.rename(columns={'Pool-Name': 'pool_name'})\n",
    "stock_df.head()"
   ]
  },
  {
   "cell_type": "code",
   "execution_count": null,
   "id": "68ca056a",
   "metadata": {},
   "outputs": [],
   "source": [
    "# Loading the data\n",
    "dataset = pd.read_csv('..\\cleaned-data\\ethereum-pools-volume-cleaned.csv')"
   ]
  },
  {
   "cell_type": "code",
   "execution_count": null,
   "id": "3e1d2355",
   "metadata": {
    "scrolled": true
   },
   "outputs": [],
   "source": [
    "# Split column 'Pool-Name' into three columns: 'Token_1', 'Token_2' and 'Fee's'\n",
    "crypto_info = dataset['Pool-Name'].str.split(' ', n=2, expand=True)\n",
    "dataset['Token_1'] = crypto_info[0]\n",
    "dataset['Token_2'] = crypto_info[2].str.split(' ', n=1, expand=True)[0]\n",
    "\n",
    "# Create columns for each rate type\n",
    "dataset['fee_0.01%'] = 0\n",
    "dataset['fee_0.05%'] = 0\n",
    "dataset['fee_0.3%'] = 0\n",
    "dataset['fee_1%'] = 0\n",
    "\n",
    "# Assign the correct values to the fee columns\n",
    "dataset.loc[dataset['Pool-Name'].str.contains('0.01%'), 'fee_0.01%'] = 1\n",
    "dataset.loc[dataset['Pool-Name'].str.contains('0.05%'), 'fee_0.05%'] = 1\n",
    "dataset.loc[dataset['Pool-Name'].str.contains('0.3%'), 'fee_0.3%'] = 1\n",
    "dataset.loc[dataset['Pool-Name'].str.contains('1%'), 'fee_1%'] = 1\n",
    "\n",
    "# printing to see the results\n",
    "dataset"
   ]
  },
  {
   "cell_type": "code",
   "execution_count": null,
   "id": "8484b003",
   "metadata": {},
   "outputs": [],
   "source": [
    "# Save the new DataFrame to a CSV file\n",
    "dataset.to_csv('new_dataset.csv', index=False)"
   ]
  },
  {
   "cell_type": "code",
   "execution_count": null,
   "id": "a503e91f",
   "metadata": {},
   "outputs": [],
   "source": [
    "# Token-to-number mapping dictionary\n",
    "token_dict = {'DAI': 0, 'ETH': 1, 'LUSD': 2, 'USDC': 3, 'UDT': 4, 'MATIC': 5, 'WBTC': 6, 'USDT': 7, 'LINK': 8, 'OP': 9, 'ARB': 10, 'WETH': 11, 'BUSD': 12, 'BNB': 13}\n",
    "\n",
    "# Mapping tokens to numbers in column 'Token_1'\n",
    "dataset['Token_1'] = dataset['Token_1'].map(token_dict)\n",
    "\n",
    "# Mapping tokens to numbers in column 'Token_2'\n",
    "dataset['Token_2'] = dataset['Token_2'].map(token_dict)\n",
    "\n",
    "dataset\n"
   ]
  },
  {
   "cell_type": "code",
   "execution_count": null,
   "id": "3b25fb41",
   "metadata": {},
   "outputs": [],
   "source": [
    "# Removing the column 'Pool-Name' because the infos are now splited\n",
    "dataset = dataset.drop(columns=['Pool-Name'])\n",
    "dataset"
   ]
  },
  {
   "cell_type": "code",
   "execution_count": null,
   "id": "cd3fcedc",
   "metadata": {},
   "outputs": [],
   "source": [
    "# Convert 'time' column to datetime format\n",
    "dataset['time'] = pd.to_datetime(dataset['time'])\n",
    "\n",
    "# Set 'time' column as the index of the DataFrame\n",
    "dataset.set_index('time', inplace=True)\n",
    "dataset"
   ]
  },
  {
   "cell_type": "code",
   "execution_count": null,
   "id": "c13ecab2",
   "metadata": {
    "scrolled": false
   },
   "outputs": [],
   "source": [
    "# Data normalization\n",
    "scaler = MinMaxScaler(feature_range=(0, 1))\n",
    "scaled_data = scaler.fit_transform(dataset)\n",
    "\n",
    "# Print the normalized data\n",
    "print(scaled_data)"
   ]
  },
  {
   "cell_type": "code",
   "execution_count": null,
   "id": "2686a613",
   "metadata": {},
   "outputs": [],
   "source": [
    "# Determine the split point for 80% of the data\n",
    "split_point = int(len(scaled_data) * 0.6)\n",
    "\n",
    "# Split the data into training and test sets\n",
    "train, test = scaled_data[:split_point], scaled_data[split_point:]\n",
    "\n",
    "\n",
    "# Print the number of items in each set\n",
    "print('Training set: ', len(train))\n",
    "print('Test set: ', len(test))"
   ]
  },
  {
   "cell_type": "code",
   "execution_count": null,
   "id": "c3551bfe",
   "metadata": {},
   "outputs": [],
   "source": [
    "# Set the length of the sequence\n",
    "seq_length = 10\n",
    "\n",
    "# Function to create time sequences\n",
    "def create_sequences(data, seq_length):\n",
    "    xs = []\n",
    "    ys = []\n",
    "    for i in range(len(data)-seq_length):\n",
    "        x = data[i:(i+seq_length)]\n",
    "        y = data[i+seq_length]\n",
    "        xs.append(x)\n",
    "        ys.append(y)\n",
    "    return np.array(xs), np.array(ys)\n",
    "\n",
    "# Create time sequences for training\n",
    "X_train, y_train = create_sequences(train, seq_length)\n",
    "# Create time sequences for testing\n",
    "X_test, y_test = create_sequences(test, seq_length)"
   ]
  },
  {
   "cell_type": "code",
   "execution_count": null,
   "id": "6fe89241",
   "metadata": {},
   "outputs": [],
   "source": [
    "# Defines the GRU model\n",
    "model = Sequential()\n",
    "model.add(GRU(50, activation='relu', return_sequences=True, input_shape=(X_train.shape[1], X_train.shape[2])))\n",
    "model.add(GRU(50, activation='relu'))\n",
    "model.add(Dense(1))\n",
    "\n",
    "# Compiles the template\n",
    "model.compile(optimizer='adam', loss='mse')\n",
    "\n",
    "# Displays the summary of the model\n",
    "model.summary()"
   ]
  },
  {
   "cell_type": "code",
   "execution_count": null,
   "id": "2542db08",
   "metadata": {},
   "outputs": [],
   "source": [
    "# Train the model\n",
    "history = model.fit(X_train, y_train, epochs=100, batch_size=64, verbose=1)\n",
    "\n",
    "\n",
    "\n",
    "# Get the model predictions\n",
    "train_predictions = model.predict(X_train)\n",
    "test_predictions = model.predict(X_test)\n",
    "\n",
    "# Adjust the dimensions of y_train and y_test\n",
    "y_train = y_train.reshape(-1, 1)\n",
    "y_test = y_test.reshape(-1, 1)\n"
   ]
  },
  {
   "cell_type": "code",
   "execution_count": null,
   "id": "f7ffdba2",
   "metadata": {},
   "outputs": [],
   "source": [
    "print('Number of samples in X_train:', X_train.shape[0])\n",
    "print('Number of samples in y_train:', y_train.shape[0])"
   ]
  },
  {
   "cell_type": "code",
   "execution_count": null,
   "id": "e681bd7d",
   "metadata": {},
   "outputs": [],
   "source": [
    "# Resize y_train to have the same number of samples as X_train\n",
    "y_train = y_train[:X_train.shape[0]]\n",
    "\n",
    "# Verify again\n",
    "print('Number of samples in X_train:', X_train.shape[0])\n",
    "print('Number of samples in y_train:', y_train.shape[0])"
   ]
  },
  {
   "cell_type": "code",
   "execution_count": null,
   "id": "03d50d9c",
   "metadata": {
    "scrolled": false
   },
   "outputs": [],
   "source": [
    "# Train the model\n",
    "history = model.fit(X_train, y_train, epochs=100, batch_size=64, verbose=1)\n",
    "\n",
    "# Plot the training loss\n",
    "plt.plot(history.history['loss'])\n",
    "plt.title('Training Loss')\n",
    "plt.xlabel('Epochs')\n",
    "plt.ylabel('Loss')\n",
    "plt.show()"
   ]
  },
  {
   "cell_type": "markdown",
   "id": "ccd20580",
   "metadata": {},
   "source": [
    "The \"epoch\" represents a complete iteration of the training data, the \"training loss\" is the metric that quantifies the error during training, and the \"loss\" graph shows the variation of the loss over epochs."
   ]
  },
  {
   "cell_type": "code",
   "execution_count": null,
   "id": "89066023",
   "metadata": {},
   "outputs": [],
   "source": [
    "# Get model predictions\n",
    "train_predictions = model.predict(X_train)\n",
    "test_predictions = model.predict(X_test)\n",
    "\n",
    "# Reshape the dimensions of y_train and y_test arrays\n",
    "y_train = y_train.reshape(-1, 1)\n",
    "y_test = y_test.reshape(-1, 1)\n",
    "\n",
    "# Resize train_predictions\n",
    "train_predictions = train_predictions[:len(y_train)]\n",
    "\n",
    "# Resize test_predictions\n",
    "test_predictions = test_predictions[:len(y_test)]\n",
    "\n",
    "# Resize y_train to have the same number of samples as train_predictions\n",
    "y_train = y_train[:len(train_predictions)]\n",
    "\n",
    "# Resize y_test to have the same number of samples as test_predictions\n",
    "y_test = y_test[:len(test_predictions)]\n",
    "\n",
    "# Verify shapes\n",
    "print(y_test.shape)\n",
    "print(test_predictions.shape)\n",
    "\n"
   ]
  },
  {
   "cell_type": "markdown",
   "id": "7bdf2ba4",
   "metadata": {},
   "source": [
    "Isso significa que você tem 3000 amostras tanto para y_test (valores reais) quanto para test_predictions (valores previstos pelo modelo). Essas dimensões são consistentes e adequadas para calcular as métricas de erro.\n",
    "\n",
    "Portanto, você pode prosseguir utilizando os valores calculados train_mae, train_mse, test_mae e test_mse para avaliar o desempenho do seu modelo em termos de erro absoluto médio (MAE) e erro quadrático médio (MSE).\n",
    "\n",
    "\n",
    "(3000, 1)\" indica a forma (shape) dos arrays y_test e test_predictions. Ambos têm 3000 amostras e 1 dimensão."
   ]
  },
  {
   "cell_type": "markdown",
   "id": "034b5a7f",
   "metadata": {},
   "source": [
    "# Metricas de avaliação do modelo"
   ]
  },
  {
   "cell_type": "markdown",
   "id": "16b47300",
   "metadata": {},
   "source": [
    "Mean Absolute Error (MAE): O erro médio absoluto mede a média das diferenças absolutas entre as previsões e os valores reais. Quanto menor o valor do MAE, melhor o desempenho do modelo.\n",
    "\n"
   ]
  },
  {
   "cell_type": "markdown",
   "id": "262d0182",
   "metadata": {},
   "source": [
    "Mean Squared Error (MSE): O erro médio quadrático mede a média dos quadrados das diferenças entre as previsões e os valores reais. É uma métrica amplamente usada que penaliza erros maiores mais fortemente do que o MAE.\n",
    "\n"
   ]
  },
  {
   "cell_type": "code",
   "execution_count": null,
   "id": "c2b3d969",
   "metadata": {},
   "outputs": [],
   "source": [
    "# Calculate training set errors\n",
    "train_mae = mean_absolute_error(y_train, train_predictions)\n",
    "train_mse = mean_squared_error(y_train, train_predictions)\n"
   ]
  },
  {
   "cell_type": "code",
   "execution_count": null,
   "id": "de527069",
   "metadata": {},
   "outputs": [],
   "source": [
    "\n",
    "# Calculate test set errors\n",
    "test_mae = mean_absolute_error(y_test, test_predictions)\n",
    "test_mse = mean_squared_error(y_test, test_predictions)"
   ]
  },
  {
   "cell_type": "code",
   "execution_count": null,
   "id": "792c9e88",
   "metadata": {},
   "outputs": [],
   "source": [
    "print(train_mae)\n",
    "print(test_mae)\n",
    "print(train_mse) \n",
    "print(test_mse)\n"
   ]
  },
  {
   "cell_type": "code",
   "execution_count": null,
   "id": "e1f85efd",
   "metadata": {},
   "outputs": [],
   "source": [
    "# Plot training and test MAE\n",
    "plt.plot(train_mae)\n",
    "plt.plot(test_mae)\n",
    "plt.title('Mean Absolute Error')\n",
    "plt.ylabel('MAE')\n",
    "plt.xlabel('Epoch')\n",
    "plt.legend(['Train', 'Test'], loc='upper right')\n",
    "plt.show()"
   ]
  },
  {
   "cell_type": "code",
   "execution_count": null,
   "id": "8d5882a0",
   "metadata": {},
   "outputs": [],
   "source": [
    "# Plot training and test MSE\n",
    "plt.plot(train_mse)\n",
    "plt.plot(test_mse)\n",
    "plt.title('Mean Squared Error')\n",
    "plt.ylabel('MSE')\n",
    "plt.xlabel('Epoch')\n",
    "plt.legend(['Train', 'Test'], loc='upper right')\n",
    "plt.show()"
   ]
  },
  {
   "cell_type": "code",
   "execution_count": null,
   "id": "47eba0e4",
   "metadata": {},
   "outputs": [],
   "source": [
    "# Obter os limites dos eixos Y\n",
    "y1_min, y1_max = plt.gca().get_ylim()\n",
    "y2_min, y2_max = plt.gca().get_ylim()\n",
    "\n",
    "# Verificar se os limites acomodam os valores de MAE e MSE\n",
    "if train_mae > y1_max:\n",
    "    print(\"O eixo Y não é grande o suficiente para o MAE de treinamento\")  \n",
    "if test_mae > y1_max:\n",
    "    print(\"O eixo Y não é grande o suficiente para o MAE de teste\")\n",
    "\n",
    "if train_mse > y2_max:\n",
    "    print(\"O eixo Y não é grande o suficiente para o MSE de treinamento\")\n",
    "if test_mse > y2_max:        \n",
    "    print(\"O eixo Y não é grande o suficiente para o MSE de teste\")"
   ]
  },
  {
   "cell_type": "code",
   "execution_count": null,
   "id": "67ad503d",
   "metadata": {},
   "outputs": [],
   "source": [
    "train_mae = 0.21018914547118533\n",
    "test_mae = 0.26912236254681093"
   ]
  },
  {
   "cell_type": "code",
   "execution_count": null,
   "id": "397cb07f",
   "metadata": {
    "scrolled": true
   },
   "outputs": [],
   "source": [
    "# Plotar MAE manualmente\n",
    "plt.figure()\n",
    "\n",
    "# Plotar treinamento \n",
    "plt.plot([0], train_mae)  \n",
    "\n",
    "# Plotar teste\n",
    "plt.plot([0], test_mae)\n",
    "\n",
    "plt.xlabel('Epochs')\n",
    "plt.ylabel('MAE')  \n",
    "plt.show()"
   ]
  },
  {
   "cell_type": "code",
   "execution_count": null,
   "id": "5a512188",
   "metadata": {},
   "outputs": [],
   "source": [
    "print(train_mae)\n",
    "print(test_mae)\n",
    "print(train_mse) \n",
    "print(test_mse)"
   ]
  },
  {
   "cell_type": "code",
   "execution_count": 116,
   "id": "09b71d7f",
   "metadata": {},
   "outputs": [
    {
     "data": {
      "image/png": "[encoded data removed]",
      "text/plain": [
       "<Figure size 640x480 with 1 Axes>"
      ]
     },
     "metadata": {},
     "output_type": "display_data"
    }
   ],
   "source": [
    "x = [1,2,3]\n",
    "y = [2,4,1]\n",
    "\n",
    "plt.plot(x,y)\n",
    "plt.xlabel('x')\n",
    "plt.ylabel('y')\n",
    "plt.show()"
   ]
  },
  {
   "cell_type": "code",
   "execution_count": null,
   "id": "4af0ab00",
   "metadata": {},
   "outputs": [],
   "source": [
    "pip install --upgrade matplotlib"
   ]
  },
  {
   "cell_type": "code",
   "execution_count": null,
   "id": "f1bffeed",
   "metadata": {},
   "outputs": [],
   "source": []
  },
  {
   "cell_type": "code",
   "execution_count": null,
   "id": "c0edd380",
   "metadata": {},
   "outputs": [],
   "source": []
  }
 ],
 "metadata": {
  "kernelspec": {
   "display_name": "Python 3 (ipykernel)",
   "language": "python",
   "name": "python3"
  },
  "language_info": {
   "codemirror_mode": {
    "name": "ipython",
    "version": 3
   },
   "file_extension": ".py",
   "mimetype": "text/x-python",
   "name": "python",
   "nbconvert_exporter": "python",
   "pygments_lexer": "ipython3",
   "version": "3.10.9"
  }
 },
 "nbformat": 4,
 "nbformat_minor": 5
}
