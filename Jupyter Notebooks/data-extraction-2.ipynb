{
 "cells": [
  {
   "cell_type": "markdown",
   "id": "72f6a22a",
   "metadata": {},
   "source": [
    "## Dune Arbitrum-Polygon-Optimism Data"
   ]
  },
  {
   "cell_type": "markdown",
   "id": "18cd19f7",
   "metadata": {},
   "source": [
    "### Arbitrum"
   ]
  },
  {
   "cell_type": "code",
   "execution_count": 4,
   "id": "36c3db89",
   "metadata": {},
   "outputs": [],
   "source": [
    "import requests\n",
    "import json\n",
    "import pandas as pd"
   ]
  },
  {
   "cell_type": "code",
   "execution_count": 2,
   "id": "99a9bd96",
   "metadata": {},
   "outputs": [],
   "source": [
    "# PART ONE\n",
    "\n",
    "api_url = 'https://api.dune.com/api/v1/query/2277891/results'\n",
    "api_key = 'TXDQ91xHDWfIdMbXDQ1suTnSbJlVQD3j'\n",
    "params = {\n",
    "    'api_key': api_key\n",
    "}\n",
    "\n",
    "\n",
    "api_request = requests.get(api_url, params=params)\n",
    "api_response = json.loads(api_request.text)\n",
    "final = api_response['result']['rows']\n",
    "df = pd.DataFrame(final)\n",
    "\n",
    "df.to_csv('Arbitrum-Historical-Data.csv', index=False)"
   ]
  },
  {
   "cell_type": "code",
   "execution_count": 3,
   "id": "54949db9",
   "metadata": {},
   "outputs": [],
   "source": [
    "# PART TWO\n",
    "\n",
    "api_url = 'https://api.dune.com/api/v1/query/2277891/results'\n",
    "api_key = 'TXDQ91xHDWfIdMbXDQ1suTnSbJlVQD3j'\n",
    "params = {\n",
    "    'api_key': api_key\n",
    "}\n",
    "\n",
    "\n",
    "api_request = requests.get(api_url, params=params)\n",
    "api_response = json.loads(api_request.text)\n",
    "final = api_response['result']['rows']\n",
    "df = pd.DataFrame(final)\n",
    "\n",
    "df.to_csv('Arbitrum-Part-2.csv', index=False)\n",
    "\n",
    "df2 = pd.read_csv('Arbitrum-Historical-Data.csv')\n",
    "combined_df = pd.concat([df, df2], ignore_index = True)\n",
    "combined_df.to_csv('Arbitrum-Historical-Data.csv', index=False)"
   ]
  },
  {
   "cell_type": "markdown",
   "id": "c6393487",
   "metadata": {},
   "source": [
    "### Polygon"
   ]
  },
  {
   "cell_type": "code",
   "execution_count": 5,
   "id": "470aa669",
   "metadata": {},
   "outputs": [],
   "source": [
    "api_url = 'https://api.dune.com/api/v1/query/2278290/results'\n",
    "api_key = 'TXDQ91xHDWfIdMbXDQ1suTnSbJlVQD3j'\n",
    "params = {\n",
    "    'api_key': api_key\n",
    "}\n",
    "\n",
    "\n",
    "api_request = requests.get(api_url, params=params)\n",
    "api_response = json.loads(api_request.text)\n",
    "final = api_response['result']['rows']\n",
    "df = pd.DataFrame(final)\n",
    "\n",
    "df.to_csv('Polygon-Historical-Data.csv', index=False)"
   ]
  },
  {
   "cell_type": "code",
   "execution_count": 6,
   "id": "6795e8b8",
   "metadata": {},
   "outputs": [],
   "source": [
    "api_url = 'https://api.dune.com/api/v1/query/2278290/results'\n",
    "api_key = 'TXDQ91xHDWfIdMbXDQ1suTnSbJlVQD3j'\n",
    "params = {\n",
    "    'api_key': api_key\n",
    "}\n",
    "\n",
    "\n",
    "api_request = requests.get(api_url, params=params)\n",
    "api_response = json.loads(api_request.text)\n",
    "final = api_response['result']['rows']\n",
    "df = pd.DataFrame(final)\n",
    "\n",
    "df.to_csv('Polygon-Part-2.csv', index=False)\n",
    "\n",
    "df2 = pd.read_csv('Polygon-Historical-Data.csv')\n",
    "combined_df = pd.concat([df, df2], ignore_index = True)\n",
    "combined_df.to_csv('Polygon-Historical-Data.csv', index=False)"
   ]
  },
  {
   "cell_type": "markdown",
   "id": "858d31cd",
   "metadata": {},
   "source": [
    "## Yield Samurai Data (https://yieldsamurai.com/app/uniswap)"
   ]
  },
  {
   "cell_type": "code",
   "execution_count": 7,
   "id": "23cd2ddf",
   "metadata": {},
   "outputs": [],
   "source": [
    "from bs4 import BeautifulSoup\n",
    "\n",
    "url = \"https://yieldsamurai.com/app/uniswap\"\n",
    "\n",
    "# Send a GET request to the website\n",
    "response = requests.get(url)\n",
    "\n",
    "# Parse the HTML content using BeautifulSoup\n",
    "soup = BeautifulSoup(response.content, \"html.parser\")\n",
    "\n",
    "# Find the data you want to extract using CSS selectors or other methods\n",
    "# Use the 'soup' object to navigate and extract the desired data\n",
    "\n",
    "# Example: Extract the text from a specific element with a CSS class\n",
    "element = soup.select_one(\".class-name\")\n",
    "if element:\n",
    "    data = element.get_text()\n",
    "    print(data)\n",
    "\n",
    "# Example: Extract all text from elements with a specific CSS class\n",
    "elements = soup.select(\".class-name\")\n",
    "for element in elements:\n",
    "    data = element.get_text()\n",
    "    print(data)\n",
    "\n",
    "# Continue extracting other data as needed\n",
    "\n"
   ]
  },
  {
   "cell_type": "code",
   "execution_count": null,
   "id": "e9b3edc1",
   "metadata": {},
   "outputs": [],
   "source": []
  }
 ],
 "metadata": {
  "kernelspec": {
   "display_name": "Python 3 (ipykernel)",
   "language": "python",
   "name": "python3"
  },
  "language_info": {
   "codemirror_mode": {
    "name": "ipython",
    "version": 3
   },
   "file_extension": ".py",
   "mimetype": "text/x-python",
   "name": "python",
   "nbconvert_exporter": "python",
   "pygments_lexer": "ipython3",
   "version": "3.9.15"
  }
 },
 "nbformat": 4,
 "nbformat_minor": 5
}
