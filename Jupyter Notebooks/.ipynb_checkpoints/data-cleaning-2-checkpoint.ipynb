{
 "cells": [
  {
   "cell_type": "markdown",
   "id": "ca72ec16",
   "metadata": {},
   "source": [
    "## TVL"
   ]
  },
  {
   "cell_type": "markdown",
   "id": "52ec363e",
   "metadata": {},
   "source": [
    "### Ethereum"
   ]
  },
  {
   "cell_type": "code",
   "execution_count": 15,
   "id": "211634f6",
   "metadata": {},
   "outputs": [],
   "source": [
    "import pandas as pd"
   ]
  },
  {
   "cell_type": "code",
   "execution_count": 5,
   "id": "6c904a9b",
   "metadata": {},
   "outputs": [
    {
     "name": "stdout",
     "output_type": "stream",
     "text": [
      "Collecting matplotlib\n",
      "  Downloading matplotlib-3.7.1-cp39-cp39-macosx_10_12_x86_64.whl (7.4 MB)\n",
      "\u001b[2K     \u001b[90m━━━━━━━━━━━━━━━━━━━━━━━━━━━━━━━━━━━━━━━━\u001b[0m \u001b[32m7.4/7.4 MB\u001b[0m \u001b[31m24.7 MB/s\u001b[0m eta \u001b[36m0:00:00\u001b[0m00:01\u001b[0m00:01\u001b[0m\n",
      "\u001b[?25hRequirement already satisfied: python-dateutil>=2.7 in /Users/sehej/opt/anaconda3/envs/ISBA_4715_SQL/lib/python3.9/site-packages (from matplotlib) (2.8.2)\n",
      "Collecting pyparsing>=2.3.1\n",
      "  Downloading pyparsing-3.1.0-py3-none-any.whl (102 kB)\n",
      "\u001b[2K     \u001b[90m━━━━━━━━━━━━━━━━━━━━━━━━━━━━━━━━━━━━━━━\u001b[0m \u001b[32m102.6/102.6 kB\u001b[0m \u001b[31m3.9 MB/s\u001b[0m eta \u001b[36m0:00:00\u001b[0m\n",
      "\u001b[?25hCollecting contourpy>=1.0.1\n",
      "  Downloading contourpy-1.1.0-cp39-cp39-macosx_10_9_x86_64.whl (243 kB)\n",
      "\u001b[2K     \u001b[90m━━━━━━━━━━━━━━━━━━━━━━━━━━━━━━━━━━━━━━━\u001b[0m \u001b[32m243.7/243.7 kB\u001b[0m \u001b[31m7.8 MB/s\u001b[0m eta \u001b[36m0:00:00\u001b[0m\n",
      "\u001b[?25hCollecting kiwisolver>=1.0.1\n",
      "  Downloading kiwisolver-1.4.4-cp39-cp39-macosx_10_9_x86_64.whl (65 kB)\n",
      "\u001b[2K     \u001b[90m━━━━━━━━━━━━━━━━━━━━━━━━━━━━━━━━━━━━━━━━\u001b[0m \u001b[32m65.5/65.5 kB\u001b[0m \u001b[31m2.4 MB/s\u001b[0m eta \u001b[36m0:00:00\u001b[0m\n",
      "\u001b[?25hCollecting importlib-resources>=3.2.0\n",
      "  Downloading importlib_resources-5.12.0-py3-none-any.whl (36 kB)\n",
      "Collecting fonttools>=4.22.0\n",
      "  Downloading fonttools-4.40.0-cp39-cp39-macosx_10_9_x86_64.whl (2.1 MB)\n",
      "\u001b[2K     \u001b[90m━━━━━━━━━━━━━━━━━━━━━━━━━━━━━━━━━━━━━━━━\u001b[0m \u001b[32m2.1/2.1 MB\u001b[0m \u001b[31m18.9 MB/s\u001b[0m eta \u001b[36m0:00:00\u001b[0ma \u001b[36m0:00:01\u001b[0m\n",
      "\u001b[?25hRequirement already satisfied: packaging>=20.0 in /Users/sehej/opt/anaconda3/envs/ISBA_4715_SQL/lib/python3.9/site-packages (from matplotlib) (22.0)\n",
      "Collecting pillow>=6.2.0\n",
      "  Downloading Pillow-9.5.0-cp39-cp39-macosx_10_10_x86_64.whl (3.4 MB)\n",
      "\u001b[2K     \u001b[90m━━━━━━━━━━━━━━━━━━━━━━━━━━━━━━━━━━━━━━━━\u001b[0m \u001b[32m3.4/3.4 MB\u001b[0m \u001b[31m14.1 MB/s\u001b[0m eta \u001b[36m0:00:00\u001b[0m00:01\u001b[0m00:01\u001b[0m\n",
      "\u001b[?25hCollecting cycler>=0.10\n",
      "  Downloading cycler-0.11.0-py3-none-any.whl (6.4 kB)\n",
      "Requirement already satisfied: numpy>=1.20 in /Users/sehej/opt/anaconda3/envs/ISBA_4715_SQL/lib/python3.9/site-packages (from matplotlib) (1.23.5)\n",
      "Requirement already satisfied: zipp>=3.1.0 in /Users/sehej/opt/anaconda3/envs/ISBA_4715_SQL/lib/python3.9/site-packages (from importlib-resources>=3.2.0->matplotlib) (3.11.0)\n",
      "Requirement already satisfied: six>=1.5 in /Users/sehej/opt/anaconda3/envs/ISBA_4715_SQL/lib/python3.9/site-packages (from python-dateutil>=2.7->matplotlib) (1.16.0)\n",
      "Installing collected packages: pyparsing, pillow, kiwisolver, importlib-resources, fonttools, cycler, contourpy, matplotlib\n",
      "Successfully installed contourpy-1.1.0 cycler-0.11.0 fonttools-4.40.0 importlib-resources-5.12.0 kiwisolver-1.4.4 matplotlib-3.7.1 pillow-9.5.0 pyparsing-3.1.0\n",
      "Note: you may need to restart the kernel to use updated packages.\n"
     ]
    }
   ],
   "source": [
    "pip install matplotlib"
   ]
  },
  {
   "cell_type": "code",
   "execution_count": 6,
   "id": "63b8c9af",
   "metadata": {},
   "outputs": [],
   "source": [
    "import matplotlib.pyplot as plt"
   ]
  },
  {
   "cell_type": "code",
   "execution_count": 2,
   "id": "7dfba635",
   "metadata": {},
   "outputs": [],
   "source": [
    "df = pd.read_csv('Ethereum-Network-Pools-TVL.csv')"
   ]
  },
  {
   "cell_type": "code",
   "execution_count": 3,
   "id": "6b0c9bb7",
   "metadata": {},
   "outputs": [
    {
     "data": {
      "text/html": [
       "<div>\n",
       "<style scoped>\n",
       "    .dataframe tbody tr th:only-of-type {\n",
       "        vertical-align: middle;\n",
       "    }\n",
       "\n",
       "    .dataframe tbody tr th {\n",
       "        vertical-align: top;\n",
       "    }\n",
       "\n",
       "    .dataframe thead th {\n",
       "        text-align: right;\n",
       "    }\n",
       "</style>\n",
       "<table border=\"1\" class=\"dataframe\">\n",
       "  <thead>\n",
       "    <tr style=\"text-align: right;\">\n",
       "      <th></th>\n",
       "      <th>day</th>\n",
       "      <th>tvl</th>\n",
       "      <th>Pool-Name</th>\n",
       "    </tr>\n",
       "  </thead>\n",
       "  <tbody>\n",
       "    <tr>\n",
       "      <th>0</th>\n",
       "      <td>2023-05-26T00:00:00+00:00</td>\n",
       "      <td>3.179323e+06</td>\n",
       "      <td>DAI / ETH 0.05% fee</td>\n",
       "    </tr>\n",
       "    <tr>\n",
       "      <th>1</th>\n",
       "      <td>2023-05-25T00:00:00+00:00</td>\n",
       "      <td>-9.999867e+05</td>\n",
       "      <td>DAI / ETH 0.05% fee</td>\n",
       "    </tr>\n",
       "    <tr>\n",
       "      <th>2</th>\n",
       "      <td>2023-05-24T00:00:00+00:00</td>\n",
       "      <td>-1.759336e+06</td>\n",
       "      <td>DAI / ETH 0.05% fee</td>\n",
       "    </tr>\n",
       "    <tr>\n",
       "      <th>3</th>\n",
       "      <td>2023-05-23T00:00:00+00:00</td>\n",
       "      <td>-1.718733e+06</td>\n",
       "      <td>DAI / ETH 0.05% fee</td>\n",
       "    </tr>\n",
       "    <tr>\n",
       "      <th>4</th>\n",
       "      <td>2023-05-22T00:00:00+00:00</td>\n",
       "      <td>-1.544720e+06</td>\n",
       "      <td>DAI / ETH 0.05% fee</td>\n",
       "    </tr>\n",
       "  </tbody>\n",
       "</table>\n",
       "</div>"
      ],
      "text/plain": [
       "                         day           tvl            Pool-Name\n",
       "0  2023-05-26T00:00:00+00:00  3.179323e+06  DAI / ETH 0.05% fee\n",
       "1  2023-05-25T00:00:00+00:00 -9.999867e+05  DAI / ETH 0.05% fee\n",
       "2  2023-05-24T00:00:00+00:00 -1.759336e+06  DAI / ETH 0.05% fee\n",
       "3  2023-05-23T00:00:00+00:00 -1.718733e+06  DAI / ETH 0.05% fee\n",
       "4  2023-05-22T00:00:00+00:00 -1.544720e+06  DAI / ETH 0.05% fee"
      ]
     },
     "execution_count": 3,
     "metadata": {},
     "output_type": "execute_result"
    }
   ],
   "source": [
    "df.head()"
   ]
  },
  {
   "cell_type": "code",
   "execution_count": 4,
   "id": "9d44eee0",
   "metadata": {},
   "outputs": [],
   "source": [
    "df['change_column'] = df['tvl'].diff()"
   ]
  },
  {
   "cell_type": "code",
   "execution_count": 5,
   "id": "4c256061",
   "metadata": {},
   "outputs": [
    {
     "name": "stdout",
     "output_type": "stream",
     "text": [
      "                             day           tvl             Pool-Name  \\\n",
      "0      2023-05-26T00:00:00+00:00  3.179323e+06   DAI / ETH 0.05% fee   \n",
      "1      2023-05-25T00:00:00+00:00 -9.999867e+05   DAI / ETH 0.05% fee   \n",
      "2      2023-05-24T00:00:00+00:00 -1.759336e+06   DAI / ETH 0.05% fee   \n",
      "3      2023-05-23T00:00:00+00:00 -1.718733e+06   DAI / ETH 0.05% fee   \n",
      "4      2023-05-22T00:00:00+00:00 -1.544720e+06   DAI / ETH 0.05% fee   \n",
      "...                          ...           ...                   ...   \n",
      "13274  2021-05-09T00:00:00+00:00  7.488875e+05  DAI / USDC 0.01% fee   \n",
      "13275  2021-05-08T00:00:00+00:00  1.899626e+06  DAI / USDC 0.01% fee   \n",
      "13276  2021-05-07T00:00:00+00:00  2.065133e+06  DAI / USDC 0.01% fee   \n",
      "13277  2021-05-06T00:00:00+00:00  5.218139e+03  DAI / USDC 0.01% fee   \n",
      "13278  2021-05-05T00:00:00+00:00  7.468961e+01  DAI / USDC 0.01% fee   \n",
      "\n",
      "       change_column  \n",
      "0                NaN  \n",
      "1      -4.179310e+06  \n",
      "2      -7.593489e+05  \n",
      "3       4.060242e+04  \n",
      "4       1.740130e+05  \n",
      "...              ...  \n",
      "13274   1.029679e+04  \n",
      "13275   1.150739e+06  \n",
      "13276   1.655071e+05  \n",
      "13277  -2.059915e+06  \n",
      "13278  -5.143449e+03  \n",
      "\n",
      "[13279 rows x 4 columns]\n"
     ]
    }
   ],
   "source": [
    "print(df)"
   ]
  },
  {
   "cell_type": "code",
   "execution_count": 9,
   "id": "59595de8",
   "metadata": {},
   "outputs": [
    {
     "name": "stdout",
     "output_type": "stream",
     "text": [
      "                             day           tvl             Pool-Name  \\\n",
      "0      2023-05-26T00:00:00+00:00  3.179323e+06   DAI / ETH 0.05% fee   \n",
      "1      2023-05-25T00:00:00+00:00 -9.999867e+05   DAI / ETH 0.05% fee   \n",
      "2      2023-05-24T00:00:00+00:00 -1.759336e+06   DAI / ETH 0.05% fee   \n",
      "3      2023-05-23T00:00:00+00:00 -1.718733e+06   DAI / ETH 0.05% fee   \n",
      "4      2023-05-22T00:00:00+00:00 -1.544720e+06   DAI / ETH 0.05% fee   \n",
      "...                          ...           ...                   ...   \n",
      "12525  2021-05-09T00:00:00+00:00  1.534154e+06  ETH / USDC 0.05% fee   \n",
      "12526  2021-05-08T00:00:00+00:00  1.521775e+06  ETH / USDC 0.05% fee   \n",
      "12527  2021-05-07T00:00:00+00:00  2.756933e+06  ETH / USDC 0.05% fee   \n",
      "12528  2021-05-06T00:00:00+00:00  5.176178e+05  ETH / USDC 0.05% fee   \n",
      "12529  2021-05-05T00:00:00+00:00  1.501931e+04  ETH / USDC 0.05% fee   \n",
      "\n",
      "       change_column  \n",
      "0                NaN  \n",
      "1     -208965.497591  \n",
      "2      -37967.443621  \n",
      "3        2030.121139  \n",
      "4        8700.648235  \n",
      "...              ...  \n",
      "12525   -9147.283923  \n",
      "12526    -618.951605  \n",
      "12527   61757.890194  \n",
      "12528 -111965.749206  \n",
      "12529  -25129.923023  \n",
      "\n",
      "[5236 rows x 4 columns]\n"
     ]
    }
   ],
   "source": [
    "# Define the column name and keywords\n",
    "column_name = 'Pool-Name'\n",
    "keywords = ['0.05%']\n",
    "\n",
    "# Filter the specific column based on keywords\n",
    "filtered_column = df[df[column_name].str.contains('|'.join(keywords))]\n",
    "\n",
    "print(filtered_column)\n"
   ]
  },
  {
   "cell_type": "code",
   "execution_count": 7,
   "id": "163e1d0e",
   "metadata": {},
   "outputs": [
    {
     "name": "stdout",
     "output_type": "stream",
     "text": [
      "                             day           tvl             Pool-Name  \\\n",
      "0      2023-05-26T00:00:00+00:00  3.179323e+06   DAI / ETH 0.05% fee   \n",
      "1      2023-05-25T00:00:00+00:00 -9.999867e+05   DAI / ETH 0.05% fee   \n",
      "2      2023-05-24T00:00:00+00:00 -1.759336e+06   DAI / ETH 0.05% fee   \n",
      "3      2023-05-23T00:00:00+00:00 -1.718733e+06   DAI / ETH 0.05% fee   \n",
      "4      2023-05-22T00:00:00+00:00 -1.544720e+06   DAI / ETH 0.05% fee   \n",
      "...                          ...           ...                   ...   \n",
      "13274  2021-05-09T00:00:00+00:00  7.488875e+05  DAI / USDC 0.01% fee   \n",
      "13275  2021-05-08T00:00:00+00:00  1.899626e+06  DAI / USDC 0.01% fee   \n",
      "13276  2021-05-07T00:00:00+00:00  2.065133e+06  DAI / USDC 0.01% fee   \n",
      "13277  2021-05-06T00:00:00+00:00  5.218139e+03  DAI / USDC 0.01% fee   \n",
      "13278  2021-05-05T00:00:00+00:00  7.468961e+01  DAI / USDC 0.01% fee   \n",
      "\n",
      "       change_column  \n",
      "0                NaN  \n",
      "1     -208965.497591  \n",
      "2      -37967.443621  \n",
      "3        2030.121139  \n",
      "4        8700.648235  \n",
      "...              ...  \n",
      "13274     514.839500  \n",
      "13275   57536.936295  \n",
      "13276    8275.354770  \n",
      "13277 -102995.759784  \n",
      "13278    -257.172459  \n",
      "\n",
      "[13279 rows x 4 columns]\n"
     ]
    }
   ],
   "source": [
    "# Specify the column name and the value to multiply\n",
    "column_name = 'change_column'\n",
    "multiplier = 0.05\n",
    "\n",
    "# Multiply every row in the column by the same value\n",
    "df[column_name] = df[column_name] * multiplier\n",
    "\n",
    "# Print the updated DataFrame\n",
    "print(df)"
   ]
  },
  {
   "cell_type": "markdown",
   "id": "c6f75310",
   "metadata": {},
   "source": []
  },
  {
   "cell_type": "markdown",
   "id": "6beae2be",
   "metadata": {},
   "source": [
    "## Dune Data"
   ]
  },
  {
   "cell_type": "code",
   "execution_count": 2,
   "id": "b580dc46",
   "metadata": {},
   "outputs": [],
   "source": [
    "df = pd.read_csv('dune-ethereum-top-pools-historical-data.csv')"
   ]
  },
  {
   "cell_type": "code",
   "execution_count": 3,
   "id": "26317338",
   "metadata": {},
   "outputs": [
    {
     "data": {
      "text/html": [
       "<div>\n",
       "<style scoped>\n",
       "    .dataframe tbody tr th:only-of-type {\n",
       "        vertical-align: middle;\n",
       "    }\n",
       "\n",
       "    .dataframe tbody tr th {\n",
       "        vertical-align: top;\n",
       "    }\n",
       "\n",
       "    .dataframe thead th {\n",
       "        text-align: right;\n",
       "    }\n",
       "</style>\n",
       "<table border=\"1\" class=\"dataframe\">\n",
       "  <thead>\n",
       "    <tr style=\"text-align: right;\">\n",
       "      <th></th>\n",
       "      <th>pair</th>\n",
       "      <th>pool</th>\n",
       "      <th>volume</th>\n",
       "      <th>vol_rank</th>\n",
       "      <th>Volume Share</th>\n",
       "      <th>tvl</th>\n",
       "      <th>tvl_rank</th>\n",
       "      <th>TVL Share</th>\n",
       "      <th>Fee Earned</th>\n",
       "      <th>fee_rank</th>\n",
       "      <th>Fee Share</th>\n",
       "      <th>Fee/TVL</th>\n",
       "      <th>apy</th>\n",
       "    </tr>\n",
       "  </thead>\n",
       "  <tbody>\n",
       "    <tr>\n",
       "      <th>0</th>\n",
       "      <td>USDC-WETH 0.05%</td>\n",
       "      <td>&lt;a href=\"https://info.uniswap.org/#/pools/0x88...</td>\n",
       "      <td>3.756087e+11</td>\n",
       "      <td>🥇 1.</td>\n",
       "      <td>0.442484</td>\n",
       "      <td>1.945890e+08</td>\n",
       "      <td>🥈 2.</td>\n",
       "      <td>0.149760</td>\n",
       "      <td>1.878044e+08</td>\n",
       "      <td>🥈 2.</td>\n",
       "      <td>0.141564</td>\n",
       "      <td>96.513343</td>\n",
       "      <td>0.468449</td>\n",
       "    </tr>\n",
       "    <tr>\n",
       "      <th>1</th>\n",
       "      <td>USDC-WETH 0.3%</td>\n",
       "      <td>&lt;a href=\"https://info.uniswap.org/#/pools/0x8a...</td>\n",
       "      <td>7.048382e+10</td>\n",
       "      <td>🥈 2.</td>\n",
       "      <td>0.083033</td>\n",
       "      <td>9.854400e+07</td>\n",
       "      <td>5.</td>\n",
       "      <td>0.075842</td>\n",
       "      <td>2.114515e+08</td>\n",
       "      <td>🥇 1.</td>\n",
       "      <td>0.159389</td>\n",
       "      <td>214.575674</td>\n",
       "      <td>1.041491</td>\n",
       "    </tr>\n",
       "    <tr>\n",
       "      <th>2</th>\n",
       "      <td>WETH-USDT 0.05%</td>\n",
       "      <td>&lt;a href=\"https://info.uniswap.org/#/pools/0x11...</td>\n",
       "      <td>6.255065e+10</td>\n",
       "      <td>🥉 3.</td>\n",
       "      <td>0.073687</td>\n",
       "      <td>2.575575e+07</td>\n",
       "      <td>9.</td>\n",
       "      <td>0.019822</td>\n",
       "      <td>3.127532e+07</td>\n",
       "      <td>7.</td>\n",
       "      <td>0.023575</td>\n",
       "      <td>121.430452</td>\n",
       "      <td>0.589390</td>\n",
       "    </tr>\n",
       "    <tr>\n",
       "      <th>3</th>\n",
       "      <td>WBTC-WETH 0.05%</td>\n",
       "      <td>&lt;a href=\"https://info.uniswap.org/#/pools/0x45...</td>\n",
       "      <td>4.923948e+10</td>\n",
       "      <td>4.</td>\n",
       "      <td>0.058006</td>\n",
       "      <td>1.063410e+08</td>\n",
       "      <td>4.</td>\n",
       "      <td>0.081842</td>\n",
       "      <td>2.461974e+07</td>\n",
       "      <td>8.</td>\n",
       "      <td>0.018558</td>\n",
       "      <td>23.151695</td>\n",
       "      <td>0.112372</td>\n",
       "    </tr>\n",
       "    <tr>\n",
       "      <th>4</th>\n",
       "      <td>WETH-USDT 0.3%</td>\n",
       "      <td>&lt;a href=\"https://info.uniswap.org/#/pools/0x4e...</td>\n",
       "      <td>3.016073e+10</td>\n",
       "      <td>5.</td>\n",
       "      <td>0.035531</td>\n",
       "      <td>3.125501e+07</td>\n",
       "      <td>8.</td>\n",
       "      <td>0.024055</td>\n",
       "      <td>9.048218e+07</td>\n",
       "      <td>🥉 3.</td>\n",
       "      <td>0.068204</td>\n",
       "      <td>289.496541</td>\n",
       "      <td>1.405136</td>\n",
       "    </tr>\n",
       "  </tbody>\n",
       "</table>\n",
       "</div>"
      ],
      "text/plain": [
       "              pair                                               pool  \\\n",
       "0  USDC-WETH 0.05%  <a href=\"https://info.uniswap.org/#/pools/0x88...   \n",
       "1   USDC-WETH 0.3%  <a href=\"https://info.uniswap.org/#/pools/0x8a...   \n",
       "2  WETH-USDT 0.05%  <a href=\"https://info.uniswap.org/#/pools/0x11...   \n",
       "3  WBTC-WETH 0.05%  <a href=\"https://info.uniswap.org/#/pools/0x45...   \n",
       "4   WETH-USDT 0.3%  <a href=\"https://info.uniswap.org/#/pools/0x4e...   \n",
       "\n",
       "         volume vol_rank  Volume Share           tvl tvl_rank  TVL Share  \\\n",
       "0  3.756087e+11     🥇 1.      0.442484  1.945890e+08     🥈 2.   0.149760   \n",
       "1  7.048382e+10     🥈 2.      0.083033  9.854400e+07       5.   0.075842   \n",
       "2  6.255065e+10     🥉 3.      0.073687  2.575575e+07       9.   0.019822   \n",
       "3  4.923948e+10       4.      0.058006  1.063410e+08       4.   0.081842   \n",
       "4  3.016073e+10       5.      0.035531  3.125501e+07       8.   0.024055   \n",
       "\n",
       "     Fee Earned fee_rank  Fee Share     Fee/TVL       apy  \n",
       "0  1.878044e+08     🥈 2.   0.141564   96.513343  0.468449  \n",
       "1  2.114515e+08     🥇 1.   0.159389  214.575674  1.041491  \n",
       "2  3.127532e+07       7.   0.023575  121.430452  0.589390  \n",
       "3  2.461974e+07       8.   0.018558   23.151695  0.112372  \n",
       "4  9.048218e+07     🥉 3.   0.068204  289.496541  1.405136  "
      ]
     },
     "execution_count": 3,
     "metadata": {},
     "output_type": "execute_result"
    }
   ],
   "source": [
    "df.head()"
   ]
  },
  {
   "cell_type": "code",
   "execution_count": 9,
   "id": "1b4b5495",
   "metadata": {},
   "outputs": [
    {
     "data": {
      "image/png": "[encoded data removed]",
      "text/plain": [
       "<Figure size 640x480 with 1 Axes>"
      ]
     },
     "metadata": {},
     "output_type": "display_data"
    }
   ],
   "source": [
    "# Specify the column name to visualize\n",
    "column_name = 'Fee Share'\n",
    "\n",
    "# Create a basic line plot of the column\n",
    "plt.plot(df[column_name])\n",
    "plt.xlabel('Pools')\n",
    "plt.ylabel(column_name)\n",
    "plt.title('Visualization of ' + column_name)\n",
    "plt.show()"
   ]
  },
  {
   "cell_type": "code",
   "execution_count": 11,
   "id": "e970ae3a",
   "metadata": {},
   "outputs": [
    {
     "name": "stderr",
     "output_type": "stream",
     "text": [
      "/Users/sehej/opt/anaconda3/envs/ISBA_4715_SQL/lib/python3.9/site-packages/IPython/core/pylabtools.py:152: UserWarning: Glyph 128038 (\\N{BIRD}) missing from current font.\n",
      "  fig.canvas.print_figure(bytes_io, **kw)\n"
     ]
    },
    {
     "data": {
      "image/png": "[encoded data removed]",
      "text/plain": [
       "<Figure size 640x480 with 1 Axes>"
      ]
     },
     "metadata": {},
     "output_type": "display_data"
    }
   ],
   "source": [
    "# Specify the column names\n",
    "name_column = 'pair'\n",
    "value_column = 'Fee Earned'\n",
    "\n",
    "# Create a bar plot or horizontal bar plot\n",
    "plt.bar(df[name_column], df[value_column])  # for a vertical bar plot\n",
    "# or\n",
    "# plt.barh(df[name_column], df[value_column])  # for a horizontal bar plot\n",
    "\n",
    "plt.xlabel(name_column)\n",
    "plt.ylabel(value_column)\n",
    "plt.title('Visualization of ' + value_column + ' by ' + name_column)\n",
    "plt.show()"
   ]
  },
  {
   "cell_type": "code",
   "execution_count": 12,
   "id": "2f3d6f92",
   "metadata": {},
   "outputs": [
    {
     "data": {
      "image/png": "[encoded data removed]",
      "text/plain": [
       "<Figure size 640x480 with 1 Axes>"
      ]
     },
     "metadata": {},
     "output_type": "display_data"
    }
   ],
   "source": [
    "# Specify the column name to visualize\n",
    "column_name = 'Volume Share'\n",
    "\n",
    "# Create a basic line plot of the column\n",
    "plt.plot(df[column_name])\n",
    "plt.xlabel('Pools')\n",
    "plt.ylabel(column_name)\n",
    "plt.title('Visualization of ' + column_name)\n",
    "plt.show()"
   ]
  },
  {
   "cell_type": "code",
   "execution_count": 13,
   "id": "ec7427f7",
   "metadata": {},
   "outputs": [
    {
     "data": {
      "image/png": "[encoded data removed]",
      "text/plain": [
       "<Figure size 640x480 with 1 Axes>"
      ]
     },
     "metadata": {},
     "output_type": "display_data"
    }
   ],
   "source": [
    "# Specify the column name to visualize\n",
    "column_name = 'Fee/TVL'\n",
    "\n",
    "# Create a basic line plot of the column\n",
    "plt.plot(df[column_name])\n",
    "plt.xlabel('Pools')\n",
    "plt.ylabel(column_name)\n",
    "plt.title('Visualization of ' + column_name)\n",
    "plt.show()"
   ]
  },
  {
   "cell_type": "markdown",
   "id": "08251bbb",
   "metadata": {},
   "source": [
    "## File Cleaning"
   ]
  },
  {
   "cell_type": "code",
   "execution_count": 14,
   "id": "5bc88b7e",
   "metadata": {},
   "outputs": [],
   "source": [
    "# Read the CSV file into a DataFrame\n",
    "df = pd.read_csv('dune-ethereum-top-pools-historical-data.csv')\n",
    "\n",
    "# Specify the columns to remove\n",
    "columns_to_remove = ['vol_rank', 'tvl_rank', 'fee_rank']\n",
    "\n",
    "# Drop the specified columns\n",
    "df = df.drop(columns_to_remove, axis=1)\n",
    "\n",
    "# Save the modified DataFrame to a new CSV file\n",
    "df.to_csv('ethereum-pools-TVL-cleaned.csv', index=False)"
   ]
  },
  {
   "cell_type": "markdown",
   "id": "22d9ff64",
   "metadata": {},
   "source": [
    "## Volume"
   ]
  },
  {
   "cell_type": "code",
   "execution_count": 17,
   "id": "4110529f",
   "metadata": {},
   "outputs": [],
   "source": [
    "df = pd.read_csv('Ethereum-Network-Pools-Volume.csv')"
   ]
  },
  {
   "cell_type": "code",
   "execution_count": 18,
   "id": "7f536d27",
   "metadata": {},
   "outputs": [
    {
     "data": {
      "text/html": [
       "<div>\n",
       "<style scoped>\n",
       "    .dataframe tbody tr th:only-of-type {\n",
       "        vertical-align: middle;\n",
       "    }\n",
       "\n",
       "    .dataframe tbody tr th {\n",
       "        vertical-align: top;\n",
       "    }\n",
       "\n",
       "    .dataframe thead th {\n",
       "        text-align: right;\n",
       "    }\n",
       "</style>\n",
       "<table border=\"1\" class=\"dataframe\">\n",
       "  <thead>\n",
       "    <tr style=\"text-align: right;\">\n",
       "      <th></th>\n",
       "      <th>daily_volume</th>\n",
       "      <th>time</th>\n",
       "      <th>total_volume</th>\n",
       "      <th>Pool-Name</th>\n",
       "    </tr>\n",
       "  </thead>\n",
       "  <tbody>\n",
       "    <tr>\n",
       "      <th>0</th>\n",
       "      <td>8.568270e+04</td>\n",
       "      <td>2021-05-05T00:00:00+00:00</td>\n",
       "      <td>8.568270e+04</td>\n",
       "      <td>DAI / ETH 0.05% fee</td>\n",
       "    </tr>\n",
       "    <tr>\n",
       "      <th>1</th>\n",
       "      <td>1.431467e+06</td>\n",
       "      <td>2021-05-06T00:00:00+00:00</td>\n",
       "      <td>1.517149e+06</td>\n",
       "      <td>DAI / ETH 0.05% fee</td>\n",
       "    </tr>\n",
       "    <tr>\n",
       "      <th>2</th>\n",
       "      <td>8.459799e+06</td>\n",
       "      <td>2021-05-07T00:00:00+00:00</td>\n",
       "      <td>9.976948e+06</td>\n",
       "      <td>DAI / ETH 0.05% fee</td>\n",
       "    </tr>\n",
       "    <tr>\n",
       "      <th>3</th>\n",
       "      <td>6.341874e+06</td>\n",
       "      <td>2021-05-08T00:00:00+00:00</td>\n",
       "      <td>1.631882e+07</td>\n",
       "      <td>DAI / ETH 0.05% fee</td>\n",
       "    </tr>\n",
       "    <tr>\n",
       "      <th>4</th>\n",
       "      <td>2.707201e+05</td>\n",
       "      <td>2021-05-09T00:00:00+00:00</td>\n",
       "      <td>1.658954e+07</td>\n",
       "      <td>DAI / ETH 0.05% fee</td>\n",
       "    </tr>\n",
       "  </tbody>\n",
       "</table>\n",
       "</div>"
      ],
      "text/plain": [
       "   daily_volume                       time  total_volume            Pool-Name\n",
       "0  8.568270e+04  2021-05-05T00:00:00+00:00  8.568270e+04  DAI / ETH 0.05% fee\n",
       "1  1.431467e+06  2021-05-06T00:00:00+00:00  1.517149e+06  DAI / ETH 0.05% fee\n",
       "2  8.459799e+06  2021-05-07T00:00:00+00:00  9.976948e+06  DAI / ETH 0.05% fee\n",
       "3  6.341874e+06  2021-05-08T00:00:00+00:00  1.631882e+07  DAI / ETH 0.05% fee\n",
       "4  2.707201e+05  2021-05-09T00:00:00+00:00  1.658954e+07  DAI / ETH 0.05% fee"
      ]
     },
     "execution_count": 18,
     "metadata": {},
     "output_type": "execute_result"
    }
   ],
   "source": [
    "df.head()"
   ]
  },
  {
   "cell_type": "code",
   "execution_count": 38,
   "id": "aa586bd9",
   "metadata": {},
   "outputs": [],
   "source": [
    "df['running_total_by_pool'] = df.groupby('Pool-Name')['daily_volume'].cumsum()"
   ]
  },
  {
   "cell_type": "code",
   "execution_count": 42,
   "id": "83db9a96",
   "metadata": {},
   "outputs": [
    {
     "data": {
      "text/html": [
       "<div>\n",
       "<style scoped>\n",
       "    .dataframe tbody tr th:only-of-type {\n",
       "        vertical-align: middle;\n",
       "    }\n",
       "\n",
       "    .dataframe tbody tr th {\n",
       "        vertical-align: top;\n",
       "    }\n",
       "\n",
       "    .dataframe thead th {\n",
       "        text-align: right;\n",
       "    }\n",
       "</style>\n",
       "<table border=\"1\" class=\"dataframe\">\n",
       "  <thead>\n",
       "    <tr style=\"text-align: right;\">\n",
       "      <th></th>\n",
       "      <th>daily_volume</th>\n",
       "      <th>time</th>\n",
       "      <th>total_volume</th>\n",
       "      <th>Pool-Name</th>\n",
       "      <th>running_total_by_pool</th>\n",
       "    </tr>\n",
       "  </thead>\n",
       "  <tbody>\n",
       "    <tr>\n",
       "      <th>0</th>\n",
       "      <td>8.568270e+04</td>\n",
       "      <td>2021-05-05T00:00:00+00:00</td>\n",
       "      <td>8.568270e+04</td>\n",
       "      <td>DAI / ETH 0.05% fee</td>\n",
       "      <td>8.568270e+04</td>\n",
       "    </tr>\n",
       "    <tr>\n",
       "      <th>1</th>\n",
       "      <td>1.431467e+06</td>\n",
       "      <td>2021-05-06T00:00:00+00:00</td>\n",
       "      <td>1.517149e+06</td>\n",
       "      <td>DAI / ETH 0.05% fee</td>\n",
       "      <td>1.517149e+06</td>\n",
       "    </tr>\n",
       "    <tr>\n",
       "      <th>2</th>\n",
       "      <td>8.459799e+06</td>\n",
       "      <td>2021-05-07T00:00:00+00:00</td>\n",
       "      <td>9.976948e+06</td>\n",
       "      <td>DAI / ETH 0.05% fee</td>\n",
       "      <td>9.976948e+06</td>\n",
       "    </tr>\n",
       "    <tr>\n",
       "      <th>3</th>\n",
       "      <td>6.341874e+06</td>\n",
       "      <td>2021-05-08T00:00:00+00:00</td>\n",
       "      <td>1.631882e+07</td>\n",
       "      <td>DAI / ETH 0.05% fee</td>\n",
       "      <td>1.631882e+07</td>\n",
       "    </tr>\n",
       "    <tr>\n",
       "      <th>4</th>\n",
       "      <td>2.707201e+05</td>\n",
       "      <td>2021-05-09T00:00:00+00:00</td>\n",
       "      <td>1.658954e+07</td>\n",
       "      <td>DAI / ETH 0.05% fee</td>\n",
       "      <td>1.658954e+07</td>\n",
       "    </tr>\n",
       "  </tbody>\n",
       "</table>\n",
       "</div>"
      ],
      "text/plain": [
       "   daily_volume                       time  total_volume            Pool-Name  \\\n",
       "0  8.568270e+04  2021-05-05T00:00:00+00:00  8.568270e+04  DAI / ETH 0.05% fee   \n",
       "1  1.431467e+06  2021-05-06T00:00:00+00:00  1.517149e+06  DAI / ETH 0.05% fee   \n",
       "2  8.459799e+06  2021-05-07T00:00:00+00:00  9.976948e+06  DAI / ETH 0.05% fee   \n",
       "3  6.341874e+06  2021-05-08T00:00:00+00:00  1.631882e+07  DAI / ETH 0.05% fee   \n",
       "4  2.707201e+05  2021-05-09T00:00:00+00:00  1.658954e+07  DAI / ETH 0.05% fee   \n",
       "\n",
       "   running_total_by_pool  \n",
       "0           8.568270e+04  \n",
       "1           1.517149e+06  \n",
       "2           9.976948e+06  \n",
       "3           1.631882e+07  \n",
       "4           1.658954e+07  "
      ]
     },
     "execution_count": 42,
     "metadata": {},
     "output_type": "execute_result"
    }
   ],
   "source": [
    "df.head()"
   ]
  },
  {
   "cell_type": "code",
   "execution_count": 41,
   "id": "8a1033b3",
   "metadata": {},
   "outputs": [],
   "source": [
    "# Specify the columns to remove\n",
    "columns_to_remove = ['running_total']\n",
    "\n",
    "# Drop the specified columns\n",
    "df = df.drop(columns_to_remove, axis=1)"
   ]
  },
  {
   "cell_type": "markdown",
   "id": "7f9e1a75",
   "metadata": {},
   "source": [
    "### File Cleaning"
   ]
  },
  {
   "cell_type": "code",
   "execution_count": 43,
   "id": "226ba3d2",
   "metadata": {},
   "outputs": [],
   "source": [
    "# Save the modified DataFrame to a new CSV file\n",
    "df.to_csv('ethereum-pools-volume-cleaned.csv', index=False)"
   ]
  },
  {
   "cell_type": "markdown",
   "id": "20db4067",
   "metadata": {},
   "source": [
    "## Volatility"
   ]
  },
  {
   "cell_type": "markdown",
   "id": "a08160d7",
   "metadata": {},
   "source": [
    "need to find better data for pool prices"
   ]
  },
  {
   "cell_type": "markdown",
   "id": "45335353",
   "metadata": {},
   "source": [
    "## Fees"
   ]
  },
  {
   "cell_type": "markdown",
   "id": "26ac2a0f",
   "metadata": {},
   "source": [
    "### Fee Tier Impact"
   ]
  },
  {
   "cell_type": "code",
   "execution_count": 44,
   "id": "e7cf61b6",
   "metadata": {},
   "outputs": [],
   "source": [
    "# Read the CSV file into a DataFrame\n",
    "df = pd.read_csv('dune-ethereum-top-pools-historical-data.csv')\n",
    "\n",
    "# Specify the word to search for in Column B\n",
    "word_to_search = '0.05'\n",
    "\n",
    "# Create a new column with the sum of values in Column A\n",
    "df['0.05_fee_total'] = df.loc[df['pair'].str.contains(word_to_search), 'Fee Earned'].groupby(df['pair']).transform('sum')"
   ]
  },
  {
   "cell_type": "code",
   "execution_count": 45,
   "id": "5a1b8902",
   "metadata": {},
   "outputs": [
    {
     "data": {
      "text/html": [
       "<div>\n",
       "<style scoped>\n",
       "    .dataframe tbody tr th:only-of-type {\n",
       "        vertical-align: middle;\n",
       "    }\n",
       "\n",
       "    .dataframe tbody tr th {\n",
       "        vertical-align: top;\n",
       "    }\n",
       "\n",
       "    .dataframe thead th {\n",
       "        text-align: right;\n",
       "    }\n",
       "</style>\n",
       "<table border=\"1\" class=\"dataframe\">\n",
       "  <thead>\n",
       "    <tr style=\"text-align: right;\">\n",
       "      <th></th>\n",
       "      <th>pair</th>\n",
       "      <th>pool</th>\n",
       "      <th>volume</th>\n",
       "      <th>vol_rank</th>\n",
       "      <th>Volume Share</th>\n",
       "      <th>tvl</th>\n",
       "      <th>tvl_rank</th>\n",
       "      <th>TVL Share</th>\n",
       "      <th>Fee Earned</th>\n",
       "      <th>fee_rank</th>\n",
       "      <th>Fee Share</th>\n",
       "      <th>Fee/TVL</th>\n",
       "      <th>apy</th>\n",
       "      <th>0.05_fee_total</th>\n",
       "    </tr>\n",
       "  </thead>\n",
       "  <tbody>\n",
       "    <tr>\n",
       "      <th>0</th>\n",
       "      <td>USDC-WETH 0.05%</td>\n",
       "      <td>&lt;a href=\"https://info.uniswap.org/#/pools/0x88...</td>\n",
       "      <td>3.756087e+11</td>\n",
       "      <td>🥇 1.</td>\n",
       "      <td>0.442484</td>\n",
       "      <td>1.945890e+08</td>\n",
       "      <td>🥈 2.</td>\n",
       "      <td>0.149760</td>\n",
       "      <td>1.878044e+08</td>\n",
       "      <td>🥈 2.</td>\n",
       "      <td>0.141564</td>\n",
       "      <td>96.513343</td>\n",
       "      <td>0.468449</td>\n",
       "      <td>1.878044e+08</td>\n",
       "    </tr>\n",
       "    <tr>\n",
       "      <th>1</th>\n",
       "      <td>USDC-WETH 0.3%</td>\n",
       "      <td>&lt;a href=\"https://info.uniswap.org/#/pools/0x8a...</td>\n",
       "      <td>7.048382e+10</td>\n",
       "      <td>🥈 2.</td>\n",
       "      <td>0.083033</td>\n",
       "      <td>9.854400e+07</td>\n",
       "      <td>5.</td>\n",
       "      <td>0.075842</td>\n",
       "      <td>2.114515e+08</td>\n",
       "      <td>🥇 1.</td>\n",
       "      <td>0.159389</td>\n",
       "      <td>214.575674</td>\n",
       "      <td>1.041491</td>\n",
       "      <td>NaN</td>\n",
       "    </tr>\n",
       "    <tr>\n",
       "      <th>2</th>\n",
       "      <td>WETH-USDT 0.05%</td>\n",
       "      <td>&lt;a href=\"https://info.uniswap.org/#/pools/0x11...</td>\n",
       "      <td>6.255065e+10</td>\n",
       "      <td>🥉 3.</td>\n",
       "      <td>0.073687</td>\n",
       "      <td>2.575575e+07</td>\n",
       "      <td>9.</td>\n",
       "      <td>0.019822</td>\n",
       "      <td>3.127532e+07</td>\n",
       "      <td>7.</td>\n",
       "      <td>0.023575</td>\n",
       "      <td>121.430452</td>\n",
       "      <td>0.589390</td>\n",
       "      <td>3.127532e+07</td>\n",
       "    </tr>\n",
       "    <tr>\n",
       "      <th>3</th>\n",
       "      <td>WBTC-WETH 0.05%</td>\n",
       "      <td>&lt;a href=\"https://info.uniswap.org/#/pools/0x45...</td>\n",
       "      <td>4.923948e+10</td>\n",
       "      <td>4.</td>\n",
       "      <td>0.058006</td>\n",
       "      <td>1.063410e+08</td>\n",
       "      <td>4.</td>\n",
       "      <td>0.081842</td>\n",
       "      <td>2.461974e+07</td>\n",
       "      <td>8.</td>\n",
       "      <td>0.018558</td>\n",
       "      <td>23.151695</td>\n",
       "      <td>0.112372</td>\n",
       "      <td>2.461974e+07</td>\n",
       "    </tr>\n",
       "    <tr>\n",
       "      <th>4</th>\n",
       "      <td>WETH-USDT 0.3%</td>\n",
       "      <td>&lt;a href=\"https://info.uniswap.org/#/pools/0x4e...</td>\n",
       "      <td>3.016073e+10</td>\n",
       "      <td>5.</td>\n",
       "      <td>0.035531</td>\n",
       "      <td>3.125501e+07</td>\n",
       "      <td>8.</td>\n",
       "      <td>0.024055</td>\n",
       "      <td>9.048218e+07</td>\n",
       "      <td>🥉 3.</td>\n",
       "      <td>0.068204</td>\n",
       "      <td>289.496541</td>\n",
       "      <td>1.405136</td>\n",
       "      <td>NaN</td>\n",
       "    </tr>\n",
       "  </tbody>\n",
       "</table>\n",
       "</div>"
      ],
      "text/plain": [
       "              pair                                               pool  \\\n",
       "0  USDC-WETH 0.05%  <a href=\"https://info.uniswap.org/#/pools/0x88...   \n",
       "1   USDC-WETH 0.3%  <a href=\"https://info.uniswap.org/#/pools/0x8a...   \n",
       "2  WETH-USDT 0.05%  <a href=\"https://info.uniswap.org/#/pools/0x11...   \n",
       "3  WBTC-WETH 0.05%  <a href=\"https://info.uniswap.org/#/pools/0x45...   \n",
       "4   WETH-USDT 0.3%  <a href=\"https://info.uniswap.org/#/pools/0x4e...   \n",
       "\n",
       "         volume vol_rank  Volume Share           tvl tvl_rank  TVL Share  \\\n",
       "0  3.756087e+11     🥇 1.      0.442484  1.945890e+08     🥈 2.   0.149760   \n",
       "1  7.048382e+10     🥈 2.      0.083033  9.854400e+07       5.   0.075842   \n",
       "2  6.255065e+10     🥉 3.      0.073687  2.575575e+07       9.   0.019822   \n",
       "3  4.923948e+10       4.      0.058006  1.063410e+08       4.   0.081842   \n",
       "4  3.016073e+10       5.      0.035531  3.125501e+07       8.   0.024055   \n",
       "\n",
       "     Fee Earned fee_rank  Fee Share     Fee/TVL       apy  0.05_fee_total  \n",
       "0  1.878044e+08     🥈 2.   0.141564   96.513343  0.468449    1.878044e+08  \n",
       "1  2.114515e+08     🥇 1.   0.159389  214.575674  1.041491             NaN  \n",
       "2  3.127532e+07       7.   0.023575  121.430452  0.589390    3.127532e+07  \n",
       "3  2.461974e+07       8.   0.018558   23.151695  0.112372    2.461974e+07  \n",
       "4  9.048218e+07     🥉 3.   0.068204  289.496541  1.405136             NaN  "
      ]
     },
     "execution_count": 45,
     "metadata": {},
     "output_type": "execute_result"
    }
   ],
   "source": [
    "df.head()"
   ]
  },
  {
   "cell_type": "code",
   "execution_count": 46,
   "id": "5ff622d7",
   "metadata": {},
   "outputs": [],
   "source": [
    "# Specify the word to search for in Column B\n",
    "word_to_search = '0.3'\n",
    "\n",
    "# Create a new column with the sum of values in Column A\n",
    "df['0.3_fee_total'] = df.loc[df['pair'].str.contains(word_to_search), 'Fee Earned'].groupby(df['pair']).transform('sum')"
   ]
  },
  {
   "cell_type": "code",
   "execution_count": 47,
   "id": "f295c11b",
   "metadata": {},
   "outputs": [],
   "source": [
    "# Specify the word to search for in Column B\n",
    "word_to_search = '0.01'\n",
    "\n",
    "# Create a new column with the sum of values in Column A\n",
    "df['0.01_fee_total'] = df.loc[df['pair'].str.contains(word_to_search), 'Fee Earned'].groupby(df['pair']).transform('sum')"
   ]
  },
  {
   "cell_type": "code",
   "execution_count": 48,
   "id": "358fffbb",
   "metadata": {},
   "outputs": [],
   "source": [
    "# Specify the word to search for in Column B\n",
    "word_to_search = '1%'\n",
    "\n",
    "# Create a new column with the sum of values in Column A\n",
    "df['1_fee_total'] = df.loc[df['pair'].str.contains(word_to_search), 'Fee Earned'].groupby(df['pair']).transform('sum')"
   ]
  },
  {
   "cell_type": "code",
   "execution_count": 49,
   "id": "bc18b6fa",
   "metadata": {},
   "outputs": [
    {
     "data": {
      "text/html": [
       "<div>\n",
       "<style scoped>\n",
       "    .dataframe tbody tr th:only-of-type {\n",
       "        vertical-align: middle;\n",
       "    }\n",
       "\n",
       "    .dataframe tbody tr th {\n",
       "        vertical-align: top;\n",
       "    }\n",
       "\n",
       "    .dataframe thead th {\n",
       "        text-align: right;\n",
       "    }\n",
       "</style>\n",
       "<table border=\"1\" class=\"dataframe\">\n",
       "  <thead>\n",
       "    <tr style=\"text-align: right;\">\n",
       "      <th></th>\n",
       "      <th>pair</th>\n",
       "      <th>pool</th>\n",
       "      <th>volume</th>\n",
       "      <th>vol_rank</th>\n",
       "      <th>Volume Share</th>\n",
       "      <th>tvl</th>\n",
       "      <th>tvl_rank</th>\n",
       "      <th>TVL Share</th>\n",
       "      <th>Fee Earned</th>\n",
       "      <th>fee_rank</th>\n",
       "      <th>Fee Share</th>\n",
       "      <th>Fee/TVL</th>\n",
       "      <th>apy</th>\n",
       "      <th>0.05_fee_total</th>\n",
       "      <th>0.3_fee_total</th>\n",
       "      <th>0.01_fee_total</th>\n",
       "      <th>1_fee_total</th>\n",
       "    </tr>\n",
       "  </thead>\n",
       "  <tbody>\n",
       "    <tr>\n",
       "      <th>0</th>\n",
       "      <td>USDC-WETH 0.05%</td>\n",
       "      <td>&lt;a href=\"https://info.uniswap.org/#/pools/0x88...</td>\n",
       "      <td>3.756087e+11</td>\n",
       "      <td>🥇 1.</td>\n",
       "      <td>0.442484</td>\n",
       "      <td>1.945890e+08</td>\n",
       "      <td>🥈 2.</td>\n",
       "      <td>0.149760</td>\n",
       "      <td>1.878044e+08</td>\n",
       "      <td>🥈 2.</td>\n",
       "      <td>0.141564</td>\n",
       "      <td>96.513343</td>\n",
       "      <td>0.468449</td>\n",
       "      <td>1.878044e+08</td>\n",
       "      <td>NaN</td>\n",
       "      <td>NaN</td>\n",
       "      <td>NaN</td>\n",
       "    </tr>\n",
       "    <tr>\n",
       "      <th>1</th>\n",
       "      <td>USDC-WETH 0.3%</td>\n",
       "      <td>&lt;a href=\"https://info.uniswap.org/#/pools/0x8a...</td>\n",
       "      <td>7.048382e+10</td>\n",
       "      <td>🥈 2.</td>\n",
       "      <td>0.083033</td>\n",
       "      <td>9.854400e+07</td>\n",
       "      <td>5.</td>\n",
       "      <td>0.075842</td>\n",
       "      <td>2.114515e+08</td>\n",
       "      <td>🥇 1.</td>\n",
       "      <td>0.159389</td>\n",
       "      <td>214.575674</td>\n",
       "      <td>1.041491</td>\n",
       "      <td>NaN</td>\n",
       "      <td>2.114515e+08</td>\n",
       "      <td>NaN</td>\n",
       "      <td>NaN</td>\n",
       "    </tr>\n",
       "    <tr>\n",
       "      <th>2</th>\n",
       "      <td>WETH-USDT 0.05%</td>\n",
       "      <td>&lt;a href=\"https://info.uniswap.org/#/pools/0x11...</td>\n",
       "      <td>6.255065e+10</td>\n",
       "      <td>🥉 3.</td>\n",
       "      <td>0.073687</td>\n",
       "      <td>2.575575e+07</td>\n",
       "      <td>9.</td>\n",
       "      <td>0.019822</td>\n",
       "      <td>3.127532e+07</td>\n",
       "      <td>7.</td>\n",
       "      <td>0.023575</td>\n",
       "      <td>121.430452</td>\n",
       "      <td>0.589390</td>\n",
       "      <td>3.127532e+07</td>\n",
       "      <td>NaN</td>\n",
       "      <td>NaN</td>\n",
       "      <td>NaN</td>\n",
       "    </tr>\n",
       "    <tr>\n",
       "      <th>3</th>\n",
       "      <td>WBTC-WETH 0.05%</td>\n",
       "      <td>&lt;a href=\"https://info.uniswap.org/#/pools/0x45...</td>\n",
       "      <td>4.923948e+10</td>\n",
       "      <td>4.</td>\n",
       "      <td>0.058006</td>\n",
       "      <td>1.063410e+08</td>\n",
       "      <td>4.</td>\n",
       "      <td>0.081842</td>\n",
       "      <td>2.461974e+07</td>\n",
       "      <td>8.</td>\n",
       "      <td>0.018558</td>\n",
       "      <td>23.151695</td>\n",
       "      <td>0.112372</td>\n",
       "      <td>2.461974e+07</td>\n",
       "      <td>NaN</td>\n",
       "      <td>NaN</td>\n",
       "      <td>NaN</td>\n",
       "    </tr>\n",
       "    <tr>\n",
       "      <th>4</th>\n",
       "      <td>WETH-USDT 0.3%</td>\n",
       "      <td>&lt;a href=\"https://info.uniswap.org/#/pools/0x4e...</td>\n",
       "      <td>3.016073e+10</td>\n",
       "      <td>5.</td>\n",
       "      <td>0.035531</td>\n",
       "      <td>3.125501e+07</td>\n",
       "      <td>8.</td>\n",
       "      <td>0.024055</td>\n",
       "      <td>9.048218e+07</td>\n",
       "      <td>🥉 3.</td>\n",
       "      <td>0.068204</td>\n",
       "      <td>289.496541</td>\n",
       "      <td>1.405136</td>\n",
       "      <td>NaN</td>\n",
       "      <td>9.048218e+07</td>\n",
       "      <td>NaN</td>\n",
       "      <td>NaN</td>\n",
       "    </tr>\n",
       "  </tbody>\n",
       "</table>\n",
       "</div>"
      ],
      "text/plain": [
       "              pair                                               pool  \\\n",
       "0  USDC-WETH 0.05%  <a href=\"https://info.uniswap.org/#/pools/0x88...   \n",
       "1   USDC-WETH 0.3%  <a href=\"https://info.uniswap.org/#/pools/0x8a...   \n",
       "2  WETH-USDT 0.05%  <a href=\"https://info.uniswap.org/#/pools/0x11...   \n",
       "3  WBTC-WETH 0.05%  <a href=\"https://info.uniswap.org/#/pools/0x45...   \n",
       "4   WETH-USDT 0.3%  <a href=\"https://info.uniswap.org/#/pools/0x4e...   \n",
       "\n",
       "         volume vol_rank  Volume Share           tvl tvl_rank  TVL Share  \\\n",
       "0  3.756087e+11     🥇 1.      0.442484  1.945890e+08     🥈 2.   0.149760   \n",
       "1  7.048382e+10     🥈 2.      0.083033  9.854400e+07       5.   0.075842   \n",
       "2  6.255065e+10     🥉 3.      0.073687  2.575575e+07       9.   0.019822   \n",
       "3  4.923948e+10       4.      0.058006  1.063410e+08       4.   0.081842   \n",
       "4  3.016073e+10       5.      0.035531  3.125501e+07       8.   0.024055   \n",
       "\n",
       "     Fee Earned fee_rank  Fee Share     Fee/TVL       apy  0.05_fee_total  \\\n",
       "0  1.878044e+08     🥈 2.   0.141564   96.513343  0.468449    1.878044e+08   \n",
       "1  2.114515e+08     🥇 1.   0.159389  214.575674  1.041491             NaN   \n",
       "2  3.127532e+07       7.   0.023575  121.430452  0.589390    3.127532e+07   \n",
       "3  2.461974e+07       8.   0.018558   23.151695  0.112372    2.461974e+07   \n",
       "4  9.048218e+07     🥉 3.   0.068204  289.496541  1.405136             NaN   \n",
       "\n",
       "   0.3_fee_total  0.01_fee_total  1_fee_total  \n",
       "0            NaN             NaN          NaN  \n",
       "1   2.114515e+08             NaN          NaN  \n",
       "2            NaN             NaN          NaN  \n",
       "3            NaN             NaN          NaN  \n",
       "4   9.048218e+07             NaN          NaN  "
      ]
     },
     "execution_count": 49,
     "metadata": {},
     "output_type": "execute_result"
    }
   ],
   "source": [
    "df.head()"
   ]
  },
  {
   "cell_type": "markdown",
   "id": "12484ce4",
   "metadata": {},
   "source": [
    "### File Cleaning"
   ]
  },
  {
   "cell_type": "code",
   "execution_count": 50,
   "id": "4d6bf717",
   "metadata": {},
   "outputs": [],
   "source": [
    "# Save the modified DataFrame to a new CSV file\n",
    "df.to_csv('ethereum-pools-fees-cleaned.csv', index=False)"
   ]
  }
 ],
 "metadata": {
  "kernelspec": {
   "display_name": "Python 3 (ipykernel)",
   "language": "python",
   "name": "python3"
  },
  "language_info": {
   "codemirror_mode": {
    "name": "ipython",
    "version": 3
   },
   "file_extension": ".py",
   "mimetype": "text/x-python",
   "name": "python",
   "nbconvert_exporter": "python",
   "pygments_lexer": "ipython3",
   "version": "3.10.9"
  }
 },
 "nbformat": 4,
 "nbformat_minor": 5
}
